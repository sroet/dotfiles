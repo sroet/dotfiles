{
 "cells": [
  {
   "cell_type": "code",
   "execution_count": 1,
   "metadata": {
    "collapsed": false
   },
   "outputs": [],
   "source": [
    "from __future__ import print_function\n",
    "from simtk.openmm import app\n",
    "import simtk.openmm as mm\n",
    "from simtk import unit\n",
    "from sys import stdout\n",
    "current_dir ='/home/sanderroet/scripts/test_show/'\n",
    "\n",
    "gro = app.GromacsGroFile(current_dir+'vis-md.gro')\n",
    "top = app.GromacsTopFile(current_dir+'topol.top', periodicBoxVectors=gro.getPeriodicBoxVectors(),\n",
    "                        includeDir='/home/sanderroet/top')\n",
    "\n",
    "\n"
   ]
  },
  {
   "cell_type": "code",
   "execution_count": 2,
   "metadata": {
    "collapsed": false
   },
   "outputs": [
    {
     "name": "stdout",
     "output_type": "stream",
     "text": [
      "310.0 K\n"
     ]
    }
   ],
   "source": [
    "system = top.createSystem(nonbondedMethod=app.PME, nonbondedCutoff=1.1*unit.nanometer,\n",
    "        constraints=app.HBonds, rigidWater=False, ewaldErrorTolerance=0.0005)\n",
    "integrator = mm.LangevinIntegrator(310*unit.kelvin, 1.0/unit.picosecond, 2.0*unit.femtoseconds)\n",
    "system.addForce(mm.MonteCarloBarostat(1*unit.atmospheres, 310*unit.kelvin, 25))\n",
    "\n",
    "print(integrator.getTemperature())\n",
    "#platform = mm.Platform.getPlatformByName('CPU')\n",
    "\n",
    "simulation =app.Simulation(top.topology, system, integrator)#,platform)\n",
    "simulation.context.setPositions(gro.positions)"
   ]
  },
  {
   "cell_type": "code",
   "execution_count": 3,
   "metadata": {
    "collapsed": true
   },
   "outputs": [],
   "source": [
    "with open(current_dir+'eq_checkpoint.chk', 'rb') as f:\n",
    "     simulation.context.loadCheckpoint(f.read())"
   ]
  },
  {
   "cell_type": "code",
   "execution_count": 4,
   "metadata": {
    "collapsed": false
   },
   "outputs": [
    {
     "name": "stdout",
     "output_type": "stream",
     "text": [
      "Running production\n",
      "#\"Progress (%)\"\t\"Step\"\t\"Time (ps)\"\t\"Temperature (K)\"\t\"Speed (ns/day)\"\t\"Time Remaining\"\n",
      "1.0%\t10\t0.6\t305.963727393\t0\t--\n",
      "2.0%\t20\t0.62\t304.429211496\t0.0834\t33:51\n",
      "3.0%\t30\t0.64\t309.952782113\t0.0725\t38:32\n",
      "4.0%\t40\t0.66\t304.691071258\t0.076\t36:22\n",
      "5.0%\t50\t0.68\t305.496171554\t0.073\t37:29\n",
      "6.0%\t60\t0.7\t305.742487727\t0.075\t36:04\n",
      "7.0%\t70\t0.72\t306.169412591\t0.0763\t35:05\n",
      "8.0%\t80\t0.74\t307.365244214\t0.0741\t35:45\n",
      "9.0%\t90\t0.76\t308.125232772\t0.0752\t34:50\n",
      "10.0%\t100\t0.78\t307.276584539\t0.0739\t35:05\n",
      "11.0%\t110\t0.8\t305.394541346\t0.0748\t34:16\n",
      "12.0%\t120\t0.82\t305.914013598\t0.0755\t33:34\n",
      "13.0%\t130\t0.84\t304.342216338\t0.0744\t33:40\n",
      "14.0%\t140\t0.86\t305.065375567\t0.0751\t32:58\n",
      "15.0%\t150\t0.88\t304.323229085\t0.0743\t32:58\n",
      "16.0%\t160\t0.9\t303.434803205\t0.0748\t32:19\n",
      "17.0%\t170\t0.92\t306.415431399\t0.0754\t31:42\n",
      "18.0%\t180\t0.94\t303.93596626\t0.0747\t31:37\n",
      "19.0%\t190\t0.96\t304.485657803\t0.0751\t31:02\n",
      "20.0%\t200\t0.98\t305.298532685\t0.0746\t30:52\n",
      "21.0%\t210\t1.0\t304.092498591\t0.0751\t30:16\n",
      "22.0%\t220\t1.02\t306.150467836\t0.0755\t29:44\n",
      "23.0%\t230\t1.04\t302.811339225\t0.0751\t29:31\n",
      "24.0%\t240\t1.06\t306.12731829\t0.0755\t28:58\n",
      "25.0%\t250\t1.08\t304.645844107\t0.0752\t28:44\n",
      "26.0%\t260\t1.1\t303.502200298\t0.0755\t28:12\n",
      "27.0%\t270\t1.12\t303.835213429\t0.0759\t27:41\n",
      "28.0%\t280\t1.14\t304.876626306\t0.0756\t27:26\n",
      "29.0%\t290\t1.16\t305.675824737\t0.0759\t26:56\n",
      "30.0%\t300\t1.18\t306.235836046\t0.0756\t26:40\n",
      "31.0%\t310\t1.2\t304.166158443\t0.0759\t26:10\n",
      "32.0%\t320\t1.22\t303.99502895\t0.0762\t25:41\n",
      "33.0%\t330\t1.24\t303.395280441\t0.0758\t25:27\n",
      "34.0%\t340\t1.26\t302.695264726\t0.0761\t24:58\n",
      "35.0%\t350\t1.28\t305.793286027\t0.0757\t24:43\n",
      "36.0%\t360\t1.3\t305.415979632\t0.076\t24:14\n",
      "37.0%\t370\t1.32\t302.129246165\t0.0762\t23:47\n",
      "38.0%\t380\t1.34\t306.476905625\t0.0759\t23:31\n",
      "39.0%\t390\t1.36\t305.093107433\t0.0762\t23:03\n",
      "40.0%\t400\t1.38\t302.331699366\t0.0758\t22:47\n",
      "41.0%\t410\t1.4\t304.106272184\t0.0761\t22:19\n",
      "42.0%\t420\t1.42\t303.081010114\t0.0763\t21:53\n",
      "43.0%\t430\t1.44\t303.801681794\t0.0761\t21:34\n",
      "44.0%\t440\t1.46\t303.800489263\t0.0763\t21:08\n",
      "45.0%\t450\t1.48\t302.395596931\t0.076\t20:50\n",
      "46.0%\t460\t1.5\t303.236668895\t0.0762\t20:24\n",
      "47.0%\t470\t1.52\t305.909713381\t0.0764\t19:58\n",
      "48.0%\t480\t1.54\t304.648374177\t0.0762\t19:39\n",
      "49.0%\t490\t1.56\t306.73278084\t0.0764\t19:13\n",
      "50.0%\t500\t1.58\t306.70589864\t0.0762\t18:54\n",
      "51.0%\t510\t1.6\t303.897149917\t0.0764\t18:28\n",
      "52.0%\t520\t1.62\t305.059018239\t0.0765\t18:03\n",
      "53.0%\t530\t1.64\t305.903875728\t0.0764\t17:43\n",
      "54.0%\t540\t1.66\t304.949530092\t0.0765\t17:18\n",
      "55.0%\t550\t1.68\t304.156743102\t0.0763\t16:58\n",
      "56.0%\t560\t1.7\t303.783070661\t0.0765\t16:33\n",
      "57.0%\t570\t1.72\t303.237057146\t0.0767\t16:08\n",
      "58.0%\t580\t1.74\t304.619300204\t0.0765\t15:48\n",
      "59.0%\t590\t1.76\t305.417014524\t0.0767\t15:24\n",
      "60.0%\t600\t1.78\t303.234866158\t0.0765\t15:03\n",
      "61.0%\t610\t1.8\t304.110312134\t0.0766\t14:39\n",
      "62.0%\t620\t1.82\t304.9496551\t0.0768\t14:15\n",
      "63.0%\t630\t1.84\t307.589501359\t0.0766\t13:54\n",
      "64.0%\t640\t1.86\t304.08160442\t0.0767\t13:30\n",
      "65.0%\t650\t1.88\t305.928765224\t0.0766\t13:09\n",
      "66.0%\t660\t1.9\t305.943469831\t0.0767\t12:45\n",
      "67.0%\t670\t1.92\t304.9541802\t0.0769\t12:21\n",
      "68.0%\t680\t1.94\t307.427302149\t0.0767\t12:00\n",
      "69.0%\t690\t1.96\t306.464154641\t0.0768\t11:37\n",
      "70.0%\t700\t1.98\t306.710003239\t0.0767\t11:16\n",
      "71.0%\t710\t2.0\t305.815772456\t0.0768\t10:52\n",
      "72.0%\t720\t2.02\t309.984657507\t0.0769\t10:28\n",
      "73.0%\t730\t2.04\t306.148620306\t0.0768\t10:07\n",
      "74.0%\t740\t2.06\t308.080204206\t0.0769\t9:44\n",
      "75.0%\t750\t2.08\t308.177183619\t0.0768\t9:22\n",
      "76.0%\t760\t2.1\t309.336637959\t0.0769\t8:59\n",
      "77.0%\t770\t2.12\t307.573520028\t0.077\t8:35\n",
      "78.0%\t780\t2.14\t308.444369322\t0.0769\t8:14\n",
      "79.0%\t790\t2.16\t307.655330858\t0.077\t7:51\n",
      "80.0%\t800\t2.18\t309.696911091\t0.0769\t7:29\n",
      "81.0%\t810\t2.2\t306.129575612\t0.077\t7:06\n",
      "82.0%\t820\t2.22\t305.775482784\t0.0771\t6:43\n",
      "83.0%\t830\t2.24\t308.0856178\t0.077\t6:21\n",
      "84.0%\t840\t2.26\t307.937770924\t0.0771\t5:58\n",
      "85.0%\t850\t2.28\t305.966634178\t0.077\t5:36\n",
      "86.0%\t860\t2.3\t306.827443162\t0.0771\t5:13\n",
      "87.0%\t870\t2.32\t306.336344309\t0.0772\t4:50\n",
      "88.0%\t880\t2.34\t307.621063638\t0.0771\t4:28\n",
      "89.0%\t890\t2.36\t306.552736812\t0.0773\t4:06\n",
      "90.0%\t900\t2.38\t304.68368184\t0.0771\t3:44\n",
      "91.0%\t910\t2.4\t306.200207819\t0.0772\t3:21\n",
      "92.0%\t920\t2.42\t304.978962342\t0.0774\t2:58\n",
      "93.0%\t930\t2.44\t304.972385154\t0.0772\t2:36\n",
      "94.0%\t940\t2.46\t304.834381798\t0.0773\t2:14\n",
      "95.0%\t950\t2.48\t304.598856794\t0.0772\t1:51\n",
      "96.0%\t960\t2.5\t304.20979066\t0.0773\t1:29\n",
      "97.0%\t970\t2.52\t306.310436007\t0.0774\t1:06\n",
      "98.0%\t980\t2.54\t302.917119416\t0.0773\t0:44\n",
      "99.0%\t990\t2.56\t304.72671333\t0.0774\t0:22\n",
      "100.0%\t1000\t2.58\t301.984457502\t0.0773\t0:00\n"
     ]
    }
   ],
   "source": [
    "simulation.reporters.append(app.StateDataReporter(stdout, 10, step=True, \n",
    "    time=True, potentialEnergy=False, kineticEnergy=False, totalEnergy=False, \n",
    "    temperature=True, volume=False, density=False, progress=True, \n",
    "    remainingTime=True, speed=True, totalSteps = 1000, separator='\\t'))\n",
    "simulation.reporters.append(app.PDBReporter(current_dir+'temp_test_prod.pdb', 1000))\n",
    "simulation.reporters.append(app.DCDReporter(current_dir+'temp_test_prod.dcd', 10))\n",
    "print('Running production')\n",
    "simulation.step(1000)"
   ]
  },
  {
   "cell_type": "code",
   "execution_count": 5,
   "metadata": {
    "collapsed": true
   },
   "outputs": [],
   "source": [
    "with open(current_dir+'prod_checkpoint.chk', 'wb') as f:\n",
    "    f.write(simulation.context.createCheckpoint())"
   ]
  },
  {
   "cell_type": "code",
   "execution_count": null,
   "metadata": {
    "collapsed": true
   },
   "outputs": [],
   "source": []
  }
 ],
 "metadata": {
  "kernelspec": {
   "display_name": "Python 2",
   "language": "python",
   "name": "python2"
  },
  "language_info": {
   "codemirror_mode": {
    "name": "ipython",
    "version": 2
   },
   "file_extension": ".py",
   "mimetype": "text/x-python",
   "name": "python",
   "nbconvert_exporter": "python",
   "pygments_lexer": "ipython2",
   "version": "2.7.11"
  }
 },
 "nbformat": 4,
 "nbformat_minor": 0
}
