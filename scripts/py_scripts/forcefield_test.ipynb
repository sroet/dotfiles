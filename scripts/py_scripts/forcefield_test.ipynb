{
 "cells": [
  {
   "cell_type": "code",
   "execution_count": 76,
   "metadata": {
    "collapsed": false
   },
   "outputs": [],
   "source": [
    "from __future__ import print_function\n",
    "from simtk.openmm import app\n",
    "import simtk.openmm as mm\n",
    "from simtk import unit\n",
    "from sys import stdout\n"
   ]
  },
  {
   "cell_type": "code",
   "execution_count": 96,
   "metadata": {
    "collapsed": false
   },
   "outputs": [
    {
     "name": "stdout",
     "output_type": "stream",
     "text": [
      "-239.861194245 kJ/mol\n",
      "4.94722219093 kcal/mol\n",
      "-260.560371892 kJ/mol\n",
      "0.0 kcal/mol\n",
      "-260.389300171 kJ/mol\n",
      "0.040887122514 kcal/mol\n",
      "-240.26421896 kJ/mol\n",
      "4.85089697226 kcal/mol\n"
     ]
    }
   ],
   "source": [
    "data = []\n",
    "for i in range(1,5):\n",
    "    current_dir ='/home/sanderroet/forcefield_test/test_em/em'+str(i)+'/'\n",
    "\n",
    "    gro = app.GromacsGroFile(current_dir+'em.gro')\n",
    "    top = app.GromacsTopFile(current_dir+'topol.top', periodicBoxVectors=None,\n",
    "                            includeDir='/home/sanderroet/top')\n",
    "    system = top.createSystem(nonbondedMethod=app.NoCutoff, constraints= None, rigidWater=False, ewaldErrorTolerance=0.0005)\n",
    "    integrator = mm.LangevinIntegrator(310*unit.kelvin, 0.0/unit.picosecond, 2.0*unit.femtoseconds)\n",
    "    #system.addForce(mm.MonteCarloBarostat(1*unit.atmospheres, 310*unit.kelvin, 25))\n",
    "\n",
    "    #platform = mm.Platform.getPlatformByName('CPU')\n",
    "\n",
    "    simulation =app.Simulation(top.topology, system, integrator)#,platform)\n",
    "    simulation.context.setPositions(gro.positions)\n",
    "    #simulation.minimizeEnergy()\n",
    "    #with open(current_dir+'minimized_checkpoint.chk', 'wb') as f:\n",
    "    #    f.write(simulation.context.createCheckpoint())\n",
    "    for i in range(system.getNumForces()):\n",
    "        force = system.getForce(i)\n",
    "        #print(force)\n",
    "        force.setForceGroup(i)\n",
    "    data.append(simulation.context.getState(getEnergy=True).getPotentialEnergy())\n",
    "min_data = min(data)\n",
    "\n",
    "for i in data:\n",
    "    print(i)\n",
    "    #print(i.in_units_of(unit.kilocalorie_per_mole))\n",
    "    print((i-min_data).in_units_of(unit.kilocalorie_per_mole))"
   ]
  },
  {
   "cell_type": "code",
   "execution_count": 99,
   "metadata": {
    "collapsed": false
   },
   "outputs": [
    {
     "name": "stdout",
     "output_type": "stream",
     "text": [
      "-161.300908034 kJ/mol\n",
      "8.36062542063 kcal/mol\n",
      "-196.281764794 kJ/mol\n",
      "0.0 kcal/mol\n",
      "-177.856298158 kJ/mol\n",
      "4.40379221692 kcal/mol\n",
      "-159.996362096 kJ/mol\n",
      "8.67241938266 kcal/mol\n"
     ]
    }
   ],
   "source": [
    "data2 = []\n",
    "for i in range(1,5):\n",
    "    current_dir ='/home/sanderroet/forcefield_test/test_em/em'+str(i)+'/'\n",
    "\n",
    "    gro = app.GromacsGroFile(current_dir+'conf.gro')\n",
    "    top = app.GromacsTopFile(current_dir+'topol.top', periodicBoxVectors=None,\n",
    "                            includeDir='/home/sanderroet/top')\n",
    "    system = top.createSystem(nonbondedMethod=app.NoCutoff, constraints= None, rigidWater=False, ewaldErrorTolerance=0.0005)\n",
    "    integrator = mm.LangevinIntegrator(310*unit.kelvin, 0.0/unit.picosecond, 2.0*unit.femtoseconds)\n",
    "    #system.addForce(mm.MonteCarloBarostat(1*unit.atmospheres, 310*unit.kelvin, 25))\n",
    "\n",
    "    #platform = mm.Platform.getPlatformByName('CPU')\n",
    "\n",
    "    simulation =app.Simulation(top.topology, system, integrator)#,platform)\n",
    "    simulation.context.setPositions(gro.positions)\n",
    "    simulation.minimizeEnergy()\n",
    "    with open(current_dir+'minimized_checkpoint.chk', 'wb') as f:\n",
    "        f.write(simulation.context.createCheckpoint())\n",
    "    for i in range(system.getNumForces()):\n",
    "        force = system.getForce(i)\n",
    "        #print(force)\n",
    "        force.setForceGroup(i)\n",
    "    data2.append(simulation.context.getState(getEnergy=True).getPotentialEnergy())\n",
    "min_data = min(data2)\n",
    "\n",
    "for i in data2:\n",
    "    print(i)\n",
    "    #print(i.in_units_of(unit.kilocalorie_per_mole))\n",
    "    print((i-min_data).in_units_of(unit.kilocalorie_per_mole))"
   ]
  },
  {
   "cell_type": "code",
   "execution_count": 98,
   "metadata": {
    "collapsed": false
   },
   "outputs": [
    {
     "name": "stdout",
     "output_type": "stream",
     "text": [
      "-240.318359 kJ/mol\n",
      "4.96847179732 kcal/mol\n",
      "-261.106445 kJ/mol\n",
      "0.0 kcal/mol\n",
      "-260.508789 kJ/mol\n",
      "0.142843212237 kcal/mol\n",
      "-240.657227 kJ/mol\n",
      "4.88748040153 kcal/mol\n"
     ]
    }
   ],
   "source": [
    "data3 = [-240.318359,-261.106445,-260.508789,-240.657227]\n",
    "min_data = min(data3)*unit.kilojoule_per_mole\n",
    "for i in data3:\n",
    "    i = i*unit.kilojoule_per_mole\n",
    "    print(i)\n",
    "    #print(i.in_units_of(unit.kilocalorie_per_mole))\n",
    "    print((i-min_data).in_units_of(unit.kilocalorie_per_mole))"
   ]
  },
  {
   "cell_type": "code",
   "execution_count": 3,
   "metadata": {
    "collapsed": false
   },
   "outputs": [
    {
     "data": {
      "text/plain": [
       "\"%%time\\nprint('Minimizing...')\\nsimulation.minimizeEnergy()\\nprint('Done minimizing')\\nwith open(current_dir+'minimized_checkpoint.chk', 'wb') as f:\\n    f.write(simulation.context.createCheckpoint())\""
      ]
     },
     "execution_count": 3,
     "metadata": {},
     "output_type": "execute_result"
    }
   ],
   "source": [
    "'''%%time\n",
    "print('Minimizing...')\n",
    "simulation.minimizeEnergy()\n",
    "print('Done minimizing')\n",
    "with open(current_dir+'minimized_checkpoint.chk', 'wb') as f:\n",
    "    f.write(simulation.context.createCheckpoint())'''"
   ]
  },
  {
   "cell_type": "code",
   "execution_count": null,
   "metadata": {
    "collapsed": true
   },
   "outputs": [],
   "source": []
  }
 ],
 "metadata": {
  "kernelspec": {
   "display_name": "Python 2",
   "language": "python",
   "name": "python2"
  },
  "language_info": {
   "codemirror_mode": {
    "name": "ipython",
    "version": 2
   },
   "file_extension": ".py",
   "mimetype": "text/x-python",
   "name": "python",
   "nbconvert_exporter": "python",
   "pygments_lexer": "ipython2",
   "version": "2.7.11"
  }
 },
 "nbformat": 4,
 "nbformat_minor": 0
}
