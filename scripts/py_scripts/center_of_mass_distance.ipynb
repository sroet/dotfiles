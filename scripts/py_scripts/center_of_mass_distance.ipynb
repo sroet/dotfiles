{
 "cells": [
  {
   "cell_type": "code",
   "execution_count": 1,
   "metadata": {
    "collapsed": true
   },
   "outputs": [],
   "source": [
    "%matplotlib inline\n",
    "\n",
    "import mdtraj as md\n",
    "import numpy as np\n",
    "import matplotlib.pyplot as plt\n",
    "from md_distance import md_distance\n",
    "from refframes import refframe_switch1\n",
    "from refframes import refframe_switch2"
   ]
  },
  {
   "cell_type": "code",
   "execution_count": 2,
   "metadata": {
    "collapsed": true
   },
   "outputs": [],
   "source": [
    "source = 'vreede'\n",
    "run = 'run2'\n",
    "if source == 'vreede':\n",
    "    current_dir = '/home/sanderroet/Ras-JV/'+run+'/analysis/'\n",
    "    name = 'vreede_'+run\n",
    "elif source == 'carbon':\n",
    "    current_dir = '/home/sanderroet/carbon/kras_100ns/'+run+'/analysis/'\n",
    "    name = 'carbon_'+run\n",
    "xtc = current_dir + 'vis-md.xtc'\n",
    "pdb = current_dir + 'vis-md.pdb'"
   ]
  },
  {
   "cell_type": "code",
   "execution_count": 3,
   "metadata": {
    "collapsed": false
   },
   "outputs": [
    {
     "name": "stdout",
     "output_type": "stream",
     "text": [
      "CPU times: user 17.1 s, sys: 1.07 s, total: 18.2 s\n",
      "Wall time: 18.6 s\n"
     ]
    }
   ],
   "source": [
    "%%time\n",
    "trj = md.load(xtc, top = pdb)\n",
    "#reference = md.load(test_pdb)"
   ]
  },
  {
   "cell_type": "code",
   "execution_count": 4,
   "metadata": {
    "collapsed": false
   },
   "outputs": [
    {
     "name": "stdout",
     "output_type": "stream",
     "text": [
      "GLY60\n",
      "GLY60\n",
      "GLY60\n",
      "GLY60\n",
      "GLY60\n",
      "GLY60\n",
      "GLY60\n",
      "GLU63\n",
      "GLU63\n",
      "GLU63\n",
      "GLU63\n",
      "GLU63\n",
      "GLU63\n",
      "GLU63\n",
      "GLU63\n",
      "GLU63\n",
      "GLU63\n",
      "GLU63\n",
      "GLU63\n",
      "GLU63\n",
      "GLU63\n",
      "GLU63\n",
      "CPU times: user 368 ms, sys: 0 ns, total: 368 ms\n",
      "Wall time: 369 ms\n"
     ]
    }
   ],
   "source": [
    "%%time\n",
    "topology = trj.topology\n",
    "G60 = topology.select('protein and (resSeq 60 or resSeq 63)')\n",
    "gly60 = topology.select('protein and (resSeq 60) and not name H')\n",
    "gly12 = topology.select('protein and (resSeq 12) and not name H')\n",
    "glu63 = topology.select('protein and (resSeq 63) and not name H')\n",
    "glu62 = topology.select('protein and (resSeq 62) and not name H')\n",
    "glu37 = topology.select('protein and (resSeq 37) and not name H')\n",
    "\n",
    "D33 = topology.select('protein and resSeq 33 and element O and not name O')\n",
    "asp30 = topology.select('protein and resSeq 30')\n",
    "his27 = topology.select('protein and resSeq 27')\n",
    "GTP = topology.select('(resname GTP) and not name H')\n",
    "GTP_sugar= topology.select('resname GTP and (name =~ \"O[2-3]\\'\")')\n",
    "MG = topology.select('element Mg')\n",
    "switch1 = topology.select('protein and(resSeq 30 to 38)')# and not name H')\n",
    "switch2 = topology.select('protein and(resSeq 60 to 76)')\n",
    "for i in G60:\n",
    "    print(topology.atom(i).residue)"
   ]
  },
  {
   "cell_type": "code",
   "execution_count": 5,
   "metadata": {
    "collapsed": false
   },
   "outputs": [],
   "source": [
    "GTP = topology.select('resname GTP or element Mg')\n",
    "test = topology.select('(resname GTP or element Mg) or (protein and resSeq 60 to 76)')\n",
    "gtp_trj = trj.atom_slice(GTP)\n",
    "switch2_trj = trj.atom_slice(switch2)"
   ]
  },
  {
   "cell_type": "code",
   "execution_count": 6,
   "metadata": {
    "collapsed": false
   },
   "outputs": [
    {
     "name": "stdout",
     "output_type": "stream",
     "text": [
      "[ 4.85118503  4.52399635  2.08145316]\n",
      "[ 6.42680571  5.43389099  1.9463817 ]\n"
     ]
    }
   ],
   "source": [
    "gtp_center = md.compute_center_of_mass(gtp_trj)\n",
    "switch2_center = md.compute_center_of_mass(switch2_trj)\n",
    "\n",
    "print(gtp_center[0])\n",
    "print(switch2_center[0])\n"
   ]
  },
  {
   "cell_type": "code",
   "execution_count": 7,
   "metadata": {
    "collapsed": false
   },
   "outputs": [],
   "source": [
    "distances = gtp_center - switch2_center\n",
    "results = []\n",
    "for i in distances:\n",
    "    temp = (i[0]**2) + (i[1]**2) + (i[2]**2)\n",
    "    results.append(temp**(0.5))\n",
    "\n"
   ]
  },
  {
   "cell_type": "code",
   "execution_count": 8,
   "metadata": {
    "collapsed": false
   },
   "outputs": [
    {
     "data": {
      "image/png": "[encoded data removed]",
      "text/plain": [
       "<matplotlib.figure.Figure at 0x7fec31dd15c0>"
      ]
     },
     "metadata": {},
     "output_type": "display_data"
    }
   ],
   "source": [
    "\n",
    "\n",
    "for i, e in enumerate([results]):\n",
    "    fig = plt.figure()\n",
    "    ax = fig.add_subplot(111)\n",
    "    y = e\n",
    "    x = range(len(e))\n",
    "\n",
    "    if i == 0 or i == 1:\n",
    "        lbl = 'COM_GTP_switch2'\n",
    "        savename='gtp_switch2_center_of_mass_distance'\n",
    "        start, stop = refframe_switch2[name]\n",
    "    ax.plot(x,y, label = lbl)\n",
    "\n",
    "    for i, j in enumerate(start): \n",
    "        x1 = range(j,stop[i])\n",
    "        y1 = e[j:stop[i]]\n",
    "        ax.plot(x1,y1, c='green')\n",
    "    ax.plot([x[0],x[-1]],[1.94,1.94], c='red')\n",
    "    plt.ylim([1.5,2.5])\n",
    "#    ax.set_ylabel('nm')\n",
    "#    ax.set_xlabel('frame')\n",
    "    ax.set_title('COM_switch2_'+source+'_'+run)\n",
    "    ax.legend()\n",
    "    plt.show\n",
    "fig.savefig(current_dir+'center_of_mass_switch2.png')"
   ]
  },
  {
   "cell_type": "code",
   "execution_count": null,
   "metadata": {
    "collapsed": true
   },
   "outputs": [],
   "source": []
  }
 ],
 "metadata": {
  "kernelspec": {
   "display_name": "Python 3",
   "language": "python",
   "name": "python3"
  },
  "language_info": {
   "codemirror_mode": {
    "name": "ipython",
    "version": 3
   },
   "file_extension": ".py",
   "mimetype": "text/x-python",
   "name": "python",
   "nbconvert_exporter": "python",
   "pygments_lexer": "ipython3",
   "version": "3.5.1"
  }
 },
 "nbformat": 4,
 "nbformat_minor": 0
}
