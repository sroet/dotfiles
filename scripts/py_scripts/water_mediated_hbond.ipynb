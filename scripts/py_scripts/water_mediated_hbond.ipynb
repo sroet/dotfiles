{
 "cells": [
  {
   "cell_type": "code",
   "execution_count": 1,
   "metadata": {
    "collapsed": true
   },
   "outputs": [],
   "source": [
    "%matplotlib inline\n",
    "\n",
    "import itertools as itt\n",
    "import mdtraj as md\n",
    "import numpy as np\n",
    "import matplotlib.pyplot as plt\n",
    "from md_distance import md_distance\n",
    "from refframes import refframe_switch1\n",
    "from refframes import refframe_switch2"
   ]
  },
  {
   "cell_type": "code",
   "execution_count": 2,
   "metadata": {
    "collapsed": true
   },
   "outputs": [],
   "source": [
    "source = 'vreede'\n",
    "run = 'run3'\n",
    "if source == 'vreede':\n",
    "    current_dir = '/home/sanderroet/Ras-JV/'+run+'/analysis/'\n",
    "    name = 'vreede_'+run\n",
    "elif source == 'carbon':\n",
    "    current_dir = '/home/sanderroet/carbon/kras_100ns/'+run+'/analysis/'\n",
    "    name = 'carbon_'+run\n",
    "xtc = current_dir + 'vis-md.xtc'\n",
    "pdb = current_dir + 'vis-md.pdb'"
   ]
  },
  {
   "cell_type": "code",
   "execution_count": 3,
   "metadata": {
    "collapsed": false
   },
   "outputs": [
    {
     "name": "stdout",
     "output_type": "stream",
     "text": [
      "CPU times: user 19.2 s, sys: 1.56 s, total: 20.7 s\n",
      "Wall time: 23.7 s\n"
     ]
    }
   ],
   "source": [
    "%%time\n",
    "trj = md.load(xtc, top = pdb)\n",
    "#reference = md.load(test_pdb)"
   ]
  },
  {
   "cell_type": "code",
   "execution_count": 4,
   "metadata": {
    "collapsed": false
   },
   "outputs": [
    {
     "name": "stdout",
     "output_type": "stream",
     "text": [
      "GLU63\n",
      "GLU63\n",
      "GLU63\n",
      "CPU times: user 123 ms, sys: 0 ns, total: 123 ms\n",
      "Wall time: 124 ms\n"
     ]
    }
   ],
   "source": [
    "%%time\n",
    "topology = trj.topology\n",
    "glu63 = topology.select('protein and resSeq 63 and element O')#not backbone and element O and not name H and not name O')\n",
    "glu62 = topology.select('protein and resSeq 62 and element O')#not backbone and element O and not name H and not name O')\n",
    "GTP = topology.select('(resname GTP and element O) or element Mg')\n",
    "water = topology.select('water and element O')\n",
    "for i in glu63:\n",
    "    print(topology.atom(i).residue)"
   ]
  },
  {
   "cell_type": "code",
   "execution_count": 5,
   "metadata": {
    "collapsed": false
   },
   "outputs": [
    {
     "name": "stdout",
     "output_type": "stream",
     "text": [
      "computing glu63_water\n",
      "computing glu62_water\n",
      "computing GTP_water\n",
      "CPU times: user 31.6 s, sys: 125 ms, total: 31.7 s\n",
      "Wall time: 31.3 s\n"
     ]
    }
   ],
   "source": [
    "%%time\n",
    "print('computing glu63_water')\n",
    "glu63_water = md.compute_neighbors(traj=trj,cutoff = 0.31, query_indices=glu63, haystack_indices = water) \n",
    "print('computing glu62_water')\n",
    "glu62_water = md.compute_neighbors(traj=trj,cutoff = 0.31, query_indices=glu62, haystack_indices = water) \n",
    "print('computing GTP_water')\n",
    "GTP_water = md.compute_neighbors(traj=trj,cutoff = 0.31, query_indices=GTP, haystack_indices = water) "
   ]
  },
  {
   "cell_type": "code",
   "execution_count": 6,
   "metadata": {
    "collapsed": false
   },
   "outputs": [
    {
     "name": "stdout",
     "output_type": "stream",
     "text": [
      "CPU times: user 247 ms, sys: 0 ns, total: 247 ms\n",
      "Wall time: 246 ms\n"
     ]
    }
   ],
   "source": [
    "%%time\n",
    "glu63_water_residues = []\n",
    "glu62_water_residues = []\n",
    "GTP_water_residues = []\n",
    "for i,e in enumerate(glu63_water):\n",
    "    temp = [topology.atom(x).residue for x in e]\n",
    "    glu63_water_residues.append(temp)\n",
    "for i,e in enumerate(glu62_water):\n",
    "    temp = [topology.atom(x).residue for x in e]\n",
    "    glu62_water_residues.append(temp)\n",
    "for i,e in enumerate(GTP_water):\n",
    "    temp = [topology.atom(x).residue for x in e]\n",
    "    GTP_water_residues.append(temp)\n"
   ]
  },
  {
   "cell_type": "code",
   "execution_count": 7,
   "metadata": {
    "collapsed": false
   },
   "outputs": [
    {
     "name": "stdout",
     "output_type": "stream",
     "text": [
      "[HOH7188, HOH7531, HOH9712, HOH580, HOH836, HOH1601, HOH3041]\n",
      "[HOH7090, HOH7710, HOH7757, HOH7831, HOH8190, HOH8428, HOH9575, HOH9741, HOH118, HOH1601, HOH2319, HOH2980, HOH3020, HOH3352]\n",
      "CPU times: user 41.9 ms, sys: 0 ns, total: 41.9 ms\n",
      "Wall time: 41.7 ms\n"
     ]
    }
   ],
   "source": [
    "%%time\n",
    "glu63_results = np.zeros(len(glu63_water_residues))\n",
    "glu62_results = np.zeros(len(glu62_water_residues))\n",
    "prev = 0\n",
    "for i, e in enumerate(glu63_water_residues):\n",
    "    if set(e).isdisjoint(GTP_water_residues[i]) == True:\n",
    "        glu63_results[i] = 1\n",
    "    else:\n",
    "        temp = 0\n",
    "        for j in e:\n",
    "            if j in GTP_water_residues[i]:\n",
    "                temp = 1\n",
    "        if temp == 0:\n",
    "            print('somtehing is wrong')\n",
    "            \n",
    "for i, e in enumerate(glu62_water_residues):\n",
    "    if set(e).isdisjoint(GTP_water_residues[i]) == True:\n",
    "        glu62_results[i] = 1\n",
    "print(glu63_water_residues[6306])\n",
    "print(GTP_water_residues[6306])\n",
    "#print(glu63_water_residues[1])\n",
    "#print(GTP_water_residues[1])\n",
    "#print(glu63_water_residues[2])\n",
    "#print(GTP_water_residues[2])\n",
    "#print(GTP_water_residues[1])\n",
    "#print(glu63_water_residues[2])\n",
    "#print(GTP_water_residues[2])"
   ]
  },
  {
   "cell_type": "code",
   "execution_count": null,
   "metadata": {
    "collapsed": true
   },
   "outputs": [],
   "source": []
  },
  {
   "cell_type": "code",
   "execution_count": 8,
   "metadata": {
    "collapsed": false
   },
   "outputs": [
    {
     "name": "stdout",
     "output_type": "stream",
     "text": [
      "[ 5.86559963  4.53979969  1.54939997]\n",
      "[ 5.82079983  4.37659979  1.6825999 ]\n",
      "[ 6.37680006  4.54679966  1.73159993]\n",
      "\n",
      "\n",
      "10312\n",
      "2749\n",
      "[10312 10313 10314]\n",
      "[ 5.64179993  4.27419996  1.89959991]\n",
      "13162\n",
      "3699\n",
      "[13162 13163 13164]\n",
      "[ 5.88439989  4.42639971  1.27639997]\n",
      "15376\n",
      "4437\n",
      "[15376 15377 15378]\n",
      "[ 5.5934      4.31279993  1.58819997]\n",
      "18199\n",
      "5378\n",
      "[18199 18200 18201]\n",
      "[ 5.85339975  4.16639996  1.46499991]\n",
      "22498\n",
      "6811\n",
      "[22498 22499 22500]\n",
      "[ 6.03599977  4.72179985  1.43139994]\n",
      "[10312 10313 10314]\n",
      "959 10312 [ 0.22379971  0.26559973 -0.35019994] 0.493224\n",
      "959 10313 [ 0.15279961  0.2947998  -0.29359996] 0.443233\n",
      "959 10314 [ 0.26359987  0.19239998 -0.30299997] 0.445322\n",
      "960 10312 [ 0.1789999   0.10239983 -0.21700001] 0.299359\n",
      "960 10313 [ 0.1079998   0.1315999  -0.16040003] 0.233903\n",
      "960 10314 [ 0.21880007  0.02920008 -0.16980004] 0.278493\n",
      "962 10312 [ 0.73500013  0.2725997  -0.16799998] 0.801723\n",
      "962 10313 [ 0.66400003  0.30179977 -0.11140001] 0.737827\n",
      "962 10314 [ 0.7748003   0.19939995 -0.12080002] 0.809116\n",
      "0\n",
      "[ 5.68739986  4.39979982  1.72579992]\n"
     ]
    }
   ],
   "source": [
    "for i in glu63:\n",
    "    print(trj.xyz[1][i])\n",
    "print('\\n')\n",
    "for i in glu63_water[1]:\n",
    "    print(i)\n",
    "    print(topology.atom(i).residue.index)\n",
    "    print(topology.select('resid '+str(topology.atom(i).residue.index)))\n",
    "    print(trj.xyz[1][i])\n",
    "print(topology.select('resSeq 9397'))\n",
    "for i in glu63:\n",
    "    for j in topology.select('resSeq 9397'):\n",
    "\n",
    "        distance = trj.xyz[1][i] - trj.xyz[1][j]\n",
    "        print(i,j,distance, np.sqrt(np.dot(distance,distance)))\n",
    "for i in range(len(trj)):\n",
    "    if np.all(abs(trj.xyz[i][10313]-np.array([5.69, 4.40, 1.73])) < 0.05):\n",
    "        print(i)\n",
    "        pass\n",
    "print(trj.xyz[0][10313])"
   ]
  },
  {
   "cell_type": "code",
   "execution_count": 9,
   "metadata": {
    "collapsed": false
   },
   "outputs": [
    {
     "data": {
      "image/png": "[encoded data removed]",
      "text/plain": [
       "<matplotlib.figure.Figure at 0x7f790ed305f8>"
      ]
     },
     "metadata": {},
     "output_type": "display_data"
    },
    {
     "data": {
      "image/png": "[encoded data removed]",
      "text/plain": [
       "<matplotlib.figure.Figure at 0x7f790ecbe128>"
      ]
     },
     "metadata": {},
     "output_type": "display_data"
    },
    {
     "data": {
      "image/png": "[encoded data removed]",
      "text/plain": [
       "<matplotlib.figure.Figure at 0x7f790ebeae80>"
      ]
     },
     "metadata": {},
     "output_type": "display_data"
    }
   ],
   "source": [
    "combined_results = []\n",
    "for i, e in enumerate(glu62_results):\n",
    "    combined_results.append(min([e,glu63_results[i]]))\n",
    "\n",
    "for i in [glu63_results, glu62_results, combined_results]:\n",
    "    y = i\n",
    "    x = range(len(i))\n",
    "    fig = plt.figure()\n",
    "    ax = fig.add_subplot(111)\n",
    "    ax.plot(x, y)\n",
    "    ax.set_ylim(-0.1,1.1)"
   ]
  },
  {
   "cell_type": "code",
   "execution_count": null,
   "metadata": {
    "collapsed": true
   },
   "outputs": [],
   "source": []
  }
 ],
 "metadata": {
  "kernelspec": {
   "display_name": "Python 3",
   "language": "python",
   "name": "python3"
  },
  "language_info": {
   "codemirror_mode": {
    "name": "ipython",
    "version": 3
   },
   "file_extension": ".py",
   "mimetype": "text/x-python",
   "name": "python",
   "nbconvert_exporter": "python",
   "pygments_lexer": "ipython3",
   "version": "3.5.1"
  }
 },
 "nbformat": 4,
 "nbformat_minor": 0
}
