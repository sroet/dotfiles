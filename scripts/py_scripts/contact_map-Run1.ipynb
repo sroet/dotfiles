{
 "cells": [
  {
   "cell_type": "markdown",
   "metadata": {},
   "source": [
    "# Contact Maps\n",
    "\n",
    "The file `contact_map.py` includes some tricks to study contact maps in protein dynamics, based on tools in MDTraj. This notebook shows examples as serves as documentation."
   ]
  },
  {
   "cell_type": "code",
   "execution_count": 1,
   "metadata": {
    "collapsed": false
   },
   "outputs": [],
   "source": [
    "%matplotlib inline\n",
    "import matplotlib.pyplot as plt\n",
    "from dok2ax import dok2plt"
   ]
  },
  {
   "cell_type": "code",
   "execution_count": 2,
   "metadata": {
    "collapsed": true
   },
   "outputs": [],
   "source": [
    "source = 'vreede'\n",
    "run = 'run3'\n",
    "if source == 'vreede':\n",
    "    current_dir = '/home/sanderroet/Ras-JV/'+run+'/analysis/'\n",
    "    name = 'vreede_'+run\n",
    "elif source == 'carbon':\n",
    "    current_dir = '/home/sanderroet/carbon/kras_100ns/'+run+'/analysis/'\n",
    "    name = 'carbon_'+run\n",
    "xtc = current_dir + 'vis-md.xtc'\n",
    "pdb = current_dir + 'vis-md.pdb'"
   ]
  },
  {
   "cell_type": "code",
   "execution_count": 3,
   "metadata": {
    "collapsed": false
   },
   "outputs": [
    {
     "name": "stdout",
     "output_type": "stream",
     "text": [
      "<mdtraj.Topology with 1 chains, 6832 residues, 22561 atoms, 15873 bonds>\n"
     ]
    }
   ],
   "source": [
    "import mdtraj as md\n",
    "traj = md.load(xtc, top=pdb)\n",
    "topology = traj.topology\n",
    "print(topology)"
   ]
  },
  {
   "cell_type": "code",
   "execution_count": 4,
   "metadata": {
    "collapsed": false
   },
   "outputs": [
    {
     "name": "stdout",
     "output_type": "stream",
     "text": [
      "<mdtraj.Topology with 4 chains, 6832 residues, 22561 atoms, 15873 bonds>\n"
     ]
    }
   ],
   "source": [
    "newtop = topology.subset([])\n",
    "oldtop = topology\n",
    "for i in ['protein', 'resname GTP', 'element Mg']:\n",
    "    temp1 = oldtop.select(i)\n",
    "    temp2 = oldtop.select('not '+i)\n",
    "    temp3 = oldtop.subset(temp1)\n",
    "    oldtop = oldtop.subset(temp2)\n",
    "    newtop = newtop.join(temp3)\n",
    "newtop = newtop.join(oldtop)\n",
    "traj.topology = newtop\n",
    "topology = traj.topology\n",
    "print(topology)"
   ]
  },
  {
   "cell_type": "code",
   "execution_count": 5,
   "metadata": {
    "collapsed": false
   },
   "outputs": [],
   "source": [
    "from contact_map import ContactMap, ContactFrequency, ContactDifference"
   ]
  },
  {
   "cell_type": "code",
   "execution_count": 6,
   "metadata": {
    "collapsed": false
   },
   "outputs": [],
   "source": [
    "GTP_MG = topology.select('resname GTP or element Mg')\n",
    "switch2 = topology.select('protein and resSeq 60 to 76 and not element H')\n",
    "#for i in switch2:\n",
    "#    print(topology.atom(i))"
   ]
  },
  {
   "cell_type": "markdown",
   "metadata": {},
   "source": [
    "## Look at a single frame: `ContactMap`\n",
    "\n",
    "First we make the contact map for the 0th frame. For default parameters (and how to change them) see section \"Changing the defaults\" below."
   ]
  },
  {
   "cell_type": "code",
   "execution_count": 7,
   "metadata": {
    "collapsed": false,
    "scrolled": true
   },
   "outputs": [
    {
     "name": "stdout",
     "output_type": "stream",
     "text": [
      "CPU times: user 1.42 s, sys: 12.1 ms, total: 1.43 s\n",
      "Wall time: 671 ms\n"
     ]
    }
   ],
   "source": [
    "%%time\n",
    "frame_contacts = ContactMap(traj[0], query=switch2)"
   ]
  },
  {
   "cell_type": "code",
   "execution_count": 8,
   "metadata": {
    "collapsed": false
   },
   "outputs": [
    {
     "name": "stdout",
     "output_type": "stream",
     "text": [
      "Using markersize of 7 pixels.\n",
      "CPU times: user 320 ms, sys: 12.8 ms, total: 332 ms\n",
      "Wall time: 238 ms\n"
     ]
    },
    {
     "data": {
      "image/png": "[encoded data removed]",
      "text/plain": [
       "<matplotlib.figure.Figure at 0x7f498c42bac8>"
      ]
     },
     "metadata": {},
     "output_type": "display_data"
    }
   ],
   "source": [
    "%%time\n",
    "fig = dok2plt(frame_contacts.residue_contacts.sparse_matrix, ymin=59, ymax=76, figsize=(18,6))"
   ]
  },
  {
   "cell_type": "markdown",
   "metadata": {},
   "source": [
    "If you wanted to, you could also plot all the atom-atom contacts. But that takes a lot longer, so it is commented out."
   ]
  },
  {
   "cell_type": "code",
   "execution_count": 9,
   "metadata": {
    "collapsed": false
   },
   "outputs": [
    {
     "name": "stderr",
     "output_type": "stream",
     "text": [
      "/home/sanderroet/scripts/dok2ax.py:38: UserWarning: Increased standard dpi from 80 to 437.\n",
      "  +str(dpi)+'.')\n"
     ]
    },
    {
     "name": "stdout",
     "output_type": "stream",
     "text": [
      "Using markersize of 1 pixels.\n",
      "CPU times: user 78 ms, sys: 4.16 ms, total: 82.2 ms\n",
      "Wall time: 81.9 ms\n"
     ]
    },
    {
     "data": {
      "image/png": "[encoded data removed]",
      "text/plain": [
       "<matplotlib.figure.Figure at 0x7f498bfa9a20>"
      ]
     },
     "metadata": {},
     "output_type": "display_data"
    }
   ],
   "source": [
    "%%time\n",
    "fig = dok2plt(frame_contacts.atom_contacts.sparse_matrix)\n"
   ]
  },
  {
   "cell_type": "markdown",
   "metadata": {},
   "source": [
    "## Look at a trajectory: `ContactFrequency`\n",
    "\n",
    "`ContactFrequency` finds the fraction of frames where each contact exists."
   ]
  },
  {
   "cell_type": "code",
   "execution_count": 10,
   "metadata": {
    "collapsed": false
   },
   "outputs": [
    {
     "name": "stdout",
     "output_type": "stream",
     "text": [
      "CPU times: user 3min 42s, sys: 6.91 s, total: 3min 49s\n",
      "Wall time: 1min 5s\n"
     ]
    }
   ],
   "source": [
    "%%time\n",
    "trajectory_contacts1 = ContactFrequency(traj[500:1500:10], query=switch2, cutoff=0.5)\n",
    "trajectory_contacts2 = ContactFrequency(traj[8000:9000:10], query=switch2, cutoff=0.5)"
   ]
  },
  {
   "cell_type": "code",
   "execution_count": 11,
   "metadata": {
    "collapsed": false
   },
   "outputs": [],
   "source": [
    "# if you want to save this for later analysis\n",
    "trajectory_contacts1.save_to_file(current_dir+\"switch2_contacts500_1500.p\")\n",
    "trajectory_contacts2.save_to_file(current_dir+\"switch2_contacts8000_9000.p\")\n",
    "# then load with ContactFrequency.from_file(\"traj_contacts.p\")"
   ]
  },
  {
   "cell_type": "code",
   "execution_count": 12,
   "metadata": {
    "collapsed": false
   },
   "outputs": [],
   "source": [
    "#trajectory_contacts2 = ContactFrequency.from_file(\"/home/sanderroet/Ras-JV/run1/analysis/GTP_contacts9300_9800.p\")"
   ]
  },
  {
   "cell_type": "code",
   "execution_count": 13,
   "metadata": {
    "collapsed": false
   },
   "outputs": [
    {
     "name": "stdout",
     "output_type": "stream",
     "text": [
      "Using markersize of 6 pixels.\n",
      "Using markersize of 6 pixels.\n",
      "CPU times: user 115 ms, sys: 3.98 ms, total: 119 ms\n",
      "Wall time: 119 ms\n"
     ]
    },
    {
     "data": {
      "image/png": "[encoded data removed]",
      "text/plain": [
       "<matplotlib.figure.Figure at 0x7f49828034e0>"
      ]
     },
     "metadata": {},
     "output_type": "display_data"
    },
    {
     "data": {
      "image/png": "[encoded data removed]",
      "text/plain": [
       "<matplotlib.figure.Figure at 0x7f4982803518>"
      ]
     },
     "metadata": {},
     "output_type": "display_data"
    }
   ],
   "source": [
    "%%time\n",
    "for i in [trajectory_contacts1,trajectory_contacts2]:\n",
    "    fig, = dok2plt(i.residue_contacts.sparse_matrix, ymin=58, ymax=76, figsize=(18,6))"
   ]
  },
  {
   "cell_type": "markdown",
   "metadata": {},
   "source": [
    "## Compare two: `ContactDifference`\n",
    "\n",
    "If you want to compare two frequencies, you can use the `ContactDifference` class (or the shortcut for it, which is to subtract a contact frequency/map from another.)\n",
    "\n",
    "The example below will compare the trajectory to its first frame."
   ]
  },
  {
   "cell_type": "code",
   "execution_count": 14,
   "metadata": {
    "collapsed": false
   },
   "outputs": [
    {
     "name": "stdout",
     "output_type": "stream",
     "text": [
      "CPU times: user 12.5 ms, sys: 18 µs, total: 12.5 ms\n",
      "Wall time: 12.9 ms\n"
     ]
    }
   ],
   "source": [
    "%%time\n",
    "diff = trajectory_contacts2 - trajectory_contacts1"
   ]
  },
  {
   "cell_type": "markdown",
   "metadata": {},
   "source": [
    "A contact that appears in trajectory, but not in the frame, will be at +1 and will be shown in red below. A contact that appears in the frame, but not the trajectory, will be at -1 and will be shown in blue below. The values are the difference in the frequencies (of course, for a single frame, the frequency is always 0 or 1)."
   ]
  },
  {
   "cell_type": "code",
   "execution_count": 15,
   "metadata": {
    "collapsed": false
   },
   "outputs": [
    {
     "name": "stdout",
     "output_type": "stream",
     "text": [
      "Using markersize of 6 pixels.\n",
      "CPU times: user 89.2 ms, sys: 4.05 ms, total: 93.2 ms\n",
      "Wall time: 91.7 ms\n"
     ]
    },
    {
     "data": {
      "image/png": "[encoded data removed]",
      "text/plain": [
       "<matplotlib.figure.Figure at 0x7f49827c4828>"
      ]
     },
     "metadata": {},
     "output_type": "display_data"
    }
   ],
   "source": [
    "%%time\n",
    "fig = dok2plt(diff.residue_contacts.sparse_matrix, ymin=58, ymax=76, figsize=(18,6))"
   ]
  },
  {
   "cell_type": "markdown",
   "metadata": {},
   "source": [
    "### List the residue contacts that show the most difference\n",
    "\n",
    "First we look at the frames that are much more important in the trajectory than the frame. Then we look at the frames that are more important in the frame than the trajectory.\n",
    "\n",
    "The `.most_common()` method gives a list of the contact pairs and the frequency, sorted by frequency. See also `collections.Counter.most_common()` in the standard Python `collections` module.\n",
    "\n",
    "Here we do this with the `ContactDifference` we created, although it works the same for `ContactFrequency` and `ContactMap` (with the single-frame contact map, the ordering is a bit nonsensical, since every entry is either 0 or 1)."
   ]
  },
  {
   "cell_type": "code",
   "execution_count": 16,
   "metadata": {
    "collapsed": false
   },
   "outputs": [
    {
     "name": "stdout",
     "output_type": "stream",
     "text": [
      "CPU times: user 938 µs, sys: 33 µs, total: 971 µs\n",
      "Wall time: 980 µs\n"
     ]
    },
    {
     "data": {
      "text/plain": [
       "[([THR58, GLN61], 1.0),\n",
       " ([SER65, GLY60], 0.98),\n",
       " ([GLN61, TYR64], 0.96),\n",
       " ([GLN61, MET72], 0.87),\n",
       " ([THR74, VAL7], 0.8),\n",
       " ([MET67, ALA59], 0.66),\n",
       " ([GLY60, TYR64], 0.58),\n",
       " ([ASP69, GLN61], 0.5499999999999999),\n",
       " ([GLN99, GLN61], 0.5),\n",
       " ([ASP57, TYR71], 0.41999999999999993)]"
      ]
     },
     "execution_count": 16,
     "metadata": {},
     "output_type": "execute_result"
    }
   ],
   "source": [
    "%%time\n",
    "# residue contact more important in trajectory than in frame (near +1)\n",
    "diff.residue_contacts.most_common()[:10]"
   ]
  },
  {
   "cell_type": "code",
   "execution_count": 17,
   "metadata": {
    "collapsed": false
   },
   "outputs": [
    {
     "data": {
      "text/plain": [
       "[([GLY60, TYR96], -1.0),\n",
       " ([GLY10, GLY60], -1.0),\n",
       " ([ARG68, GLU63], -1.0),\n",
       " ([GLY60, LYS16], -0.97),\n",
       " ([ARG68, TYR71], -0.94),\n",
       " ([ALA11, GLY60], -0.91),\n",
       " ([ALA59, GLU63], -0.9099999999999999),\n",
       " ([THR58, ARG68], -0.89),\n",
       " ([GLY12, GLY60], -0.82),\n",
       " ([ARG73, ASP105], -0.8099999999999999),\n",
       " ([GTP201, GLU63], -0.77),\n",
       " ([GLN61, HIS95], -0.6799999999999999),\n",
       " ([ALA59, TYR64], -0.62),\n",
       " ([SER65, ASP69], -0.41),\n",
       " ([ARG73, ARG68], -0.4),\n",
       " ([SER65, ALA59], -0.36),\n",
       " ([GLN99, ASP69], -0.35),\n",
       " ([ASP92, GLN61], -0.34),\n",
       " ([GLY12, GLU63], -0.33),\n",
       " ([GLY75, GLN70], -0.3),\n",
       " ([GLU37, TYR71], -0.24),\n",
       " ([MET67, MET72], -0.2),\n",
       " ([GLU76, VAL7], -0.2),\n",
       " ([THR58, TYR71], -0.19999999999999996),\n",
       " ([THR58, MET67], -0.19),\n",
       " ([LYS104, MET72], -0.18999999999999995),\n",
       " ([MET67, LEU56], -0.18),\n",
       " ([MET67, TYR71], -0.17000000000000004),\n",
       " ([THR74, GLN70], -0.14),\n",
       " ([GLN61, LYS88], -0.12),\n",
       " ([SER65, GLU37], -0.12),\n",
       " ([NA6844, GLU63], -0.12),\n",
       " ([GLU62, LYS88], -0.12),\n",
       " ([NA6830, GLU63], -0.12),\n",
       " ([ALA59, ARG68], -0.12),\n",
       " ([LYS5, GLN70], -0.1),\n",
       " ([GLY60, GTP201], -0.1),\n",
       " ([PHE78, TYR71], -0.1),\n",
       " ([MET67, GLU37], -0.1),\n",
       " ([GLU76, VAL109], -0.09),\n",
       " ([LEU6, TYR71], -0.08999999999999997),\n",
       " ([ARG73, NA6835], -0.08),\n",
       " ([ARG73, ARG102], -0.08),\n",
       " ([NA6838, GLU63], -0.07),\n",
       " ([THR74, ASP69], -0.06999999999999999),\n",
       " ([GLY12, GLN61], -0.06999999999999999),\n",
       " ([ALA11, GLN61], -0.060000000000000005),\n",
       " ([ARG73, GLU76], -0.06),\n",
       " ([GLU63, LYS16], -0.06),\n",
       " ([NA6818, GLU76], -0.06),\n",
       " ([GLU76, LYS104], -0.05999999999999994),\n",
       " ([ARG68, MET72], -0.050000000000000044),\n",
       " ([ASP57, MET67], -0.05),\n",
       " ([GLY60, GLU63], -0.040000000000000036),\n",
       " ([GLU76, MET72], -0.04),\n",
       " ([ALA11, GLU63], -0.04),\n",
       " ([ALA11, GLU62], -0.030000000000000027),\n",
       " ([NA6816, GLU63], -0.03),\n",
       " ([GLY13, GLU63], -0.03),\n",
       " ([ARG73, CL6852], -0.03),\n",
       " ([NA6844, GLU62], -0.03),\n",
       " ([GLY60, ARG68], -0.020000000000000018),\n",
       " ([GLU63, NA6823], -0.02),\n",
       " ([NA6841, GLU63], -0.02),\n",
       " ([ARG73, CL6846], -0.02),\n",
       " ([ALA66, NA6828], -0.02),\n",
       " ([ARG73, NA6825], -0.02),\n",
       " ([MET67, NA6838], -0.02),\n",
       " ([NA6834, GLU63], -0.02),\n",
       " ([THR58, GLU63], -0.02),\n",
       " ([CL6851, ASP69], -0.02),\n",
       " ([ASP69, ARG102], -0.02),\n",
       " ([ASP38, TYR71], -0.02),\n",
       " ([CL6852, GLN70], -0.02),\n",
       " ([GLU62, NA6839], -0.02),\n",
       " ([ARG68, GLU62], -0.02),\n",
       " ([CL6856, GLN61], -0.02),\n",
       " ([SER65, TYR71], -0.02),\n",
       " ([MET67, NA6828], -0.019999999999999997),\n",
       " ([GLN70, CL6846], -0.019999999999999997),\n",
       " ([GLY75, VAL7], -0.010000000000000009),\n",
       " ([NA6822, GLU63], -0.010000000000000002),\n",
       " ([GLN70, NA6839], -0.01),\n",
       " ([NA6817, GLU63], -0.01),\n",
       " ([CL6857, MET67], -0.01),\n",
       " ([ARG73, NA6839], -0.01),\n",
       " ([CL6856, TYR64], -0.01),\n",
       " ([SER65, CL6856], -0.01),\n",
       " ([ARG73, NA6817], -0.01),\n",
       " ([CL6858, GLU63], -0.01),\n",
       " ([GLU37, TYR64], -0.01),\n",
       " ([NA6818, MET67], -0.01),\n",
       " ([NA6816, MET67], -0.01),\n",
       " ([MET67, CL6861], -0.01),\n",
       " ([CL6865, TYR64], -0.01),\n",
       " ([NA6816, GLN70], -0.01),\n",
       " ([GLN70, VAL103], -0.01),\n",
       " ([NA6835, GLU62], -0.01),\n",
       " ([ARG73, CL6858], -0.01),\n",
       " ([NA6832, TYR64], -0.01),\n",
       " ([NA6840, GLU76], -0.01),\n",
       " ([GLN70, NA6831], -0.01),\n",
       " ([GLN70, NA6837], -0.01),\n",
       " ([NA6836, TYR64], -0.01),\n",
       " ([THR74, CL6852], -0.01),\n",
       " ([CL6856, ASP69], -0.01),\n",
       " ([NA6830, TYR64], -0.01),\n",
       " ([ARG73, CL6857], -0.01),\n",
       " ([NA6836, GLN61], -0.01),\n",
       " ([ALA59, MET72], -0.01),\n",
       " ([GLN70, NA6822], -0.01),\n",
       " ([NA6818, GLN70], -0.01),\n",
       " ([THR74, LEU56], -0.01),\n",
       " ([NA6817, GLN70], -0.01),\n",
       " ([CL6864, GLN61], -0.01),\n",
       " ([NA6836, ASP69], -0.01),\n",
       " ([CL6858, GLN70], -0.01),\n",
       " ([CL6848, GLU76], -0.01),\n",
       " ([THR74, NA6837], -0.01),\n",
       " ([GLU76, NA6843], -0.01),\n",
       " ([NA6832, ASP69], -0.01),\n",
       " ([ARG68, GLU37], -0.01),\n",
       " ([CL6853, TYR64], -0.01),\n",
       " ([NA6816, ALA66], -0.01),\n",
       " ([ALA66, NA6835], -0.01),\n",
       " ([NA6834, TYR64], -0.01),\n",
       " ([NA6835, TYR64], -0.01),\n",
       " ([SER65, NA6832], -0.01),\n",
       " ([GLU63, NA6839], -0.01),\n",
       " ([CL6858, GLN61], -0.01),\n",
       " ([MET67, NA6837], -0.01),\n",
       " ([THR74, NA6829], -0.01),\n",
       " ([ARG73, NA6831], -0.01),\n",
       " ([GLU62, NA6837], -0.01),\n",
       " ([CL6853, GLU63], -0.01),\n",
       " ([GLU76, NA6828], -0.01),\n",
       " ([LEU56, MET72], -0.01),\n",
       " ([GLU62, NA6823], -0.01),\n",
       " ([GLU76, NA6835], -0.01),\n",
       " ([NA6816, ASP69], -0.01),\n",
       " ([CL6864, GLN70], -0.01),\n",
       " ([GLN61, NA6822], -0.01),\n",
       " ([ARG73, PHE78], 0.0),\n",
       " ([GLY75, MET72], 0.0),\n",
       " ([GLN61, TYR96], 0.0),\n",
       " ([ARG73, GLN70], 0.0),\n",
       " ([ARG73, ASP69], 0.0),\n",
       " ([VAL103, MET72], 0.0),\n",
       " ([ASP69, MET72], 0.0),\n",
       " ([GLU76, LYS5], 0.0),\n",
       " ([ARG73, LYS104], 0.0),\n",
       " ([GLY75, LYS104], 0.0),\n",
       " ([MET67, NA6822], 0.0),\n",
       " ([GLU76, PRO110], 0.0),\n",
       " ([GLY75, TYR71], 0.0),\n",
       " ([THR74, TYR71], 0.0),\n",
       " ([THR74, LYS5], 0.0),\n",
       " ([ARG73, VAL103], 0.0),\n",
       " ([CL6851, TYR64], 0.0),\n",
       " ([ASP69, VAL103], 0.0),\n",
       " ([GLN70, CL6847], 0.0),\n",
       " ([TYR71, LEU56], 0.0),\n",
       " ([SER65, ARG68], 0.0),\n",
       " ([GLY75, LYS5], 0.0),\n",
       " ([MET67, GLN70], 0.0),\n",
       " ([PHE78, MET72], 0.0),\n",
       " ([CL6858, TYR64], 0.0),\n",
       " ([GLU62, LYS16], 0.01),\n",
       " ([NA6833, MET67], 0.01),\n",
       " ([MET67, NA6836], 0.01),\n",
       " ([ALA66, NA6839], 0.01),\n",
       " ([ASP69, NA6838], 0.01),\n",
       " ([NA6833, GLN70], 0.01),\n",
       " ([CL6859, TYR64], 0.01),\n",
       " ([ALA66, NA6833], 0.01),\n",
       " ([ASP92, TYR64], 0.01),\n",
       " ([GLU76, NA6820], 0.01),\n",
       " ([ALA66, CL6859], 0.01),\n",
       " ([NA6828, TYR71], 0.01),\n",
       " ([NA6820, GLU62], 0.01),\n",
       " ([ALA66, CL6852], 0.01),\n",
       " ([ARG68, CL6846], 0.01),\n",
       " ([NA6831, TYR64], 0.01),\n",
       " ([GLN70, CL6862], 0.01),\n",
       " ([ASP69, CL6846], 0.01),\n",
       " ([THR74, LEU6], 0.01),\n",
       " ([ARG73, NA6830], 0.01),\n",
       " ([CL6857, GLU63], 0.01),\n",
       " ([ARG73, CL6859], 0.01),\n",
       " ([GLU76, NA6838], 0.01),\n",
       " ([ARG73, CL6862], 0.01),\n",
       " ([SER65, NA6831], 0.01),\n",
       " ([ARG68, CL6862], 0.01),\n",
       " ([CL6859, ASP69], 0.01),\n",
       " ([ARG73, NA6821], 0.01),\n",
       " ([CL6848, MET67], 0.01),\n",
       " ([ALA66, CL6849], 0.01),\n",
       " ([ALA59, GLU62], 0.01),\n",
       " ([ARG73, NA6834], 0.01),\n",
       " ([NA6824, GLY75], 0.01),\n",
       " ([ALA66, CL6850], 0.01),\n",
       " ([NA6825, GLN70], 0.01),\n",
       " ([CL6858, ARG68], 0.01),\n",
       " ([NA6825, TYR64], 0.01),\n",
       " ([NA6828, GLN70], 0.01),\n",
       " ([NA6836, GLU63], 0.01),\n",
       " ([ALA66, NA6820], 0.01),\n",
       " ([GLU76, HIS166], 0.01),\n",
       " ([ARG73, NA6841], 0.01),\n",
       " ([NA6824, THR74], 0.01),\n",
       " ([CL6860, GLU63], 0.01),\n",
       " ([NA6832, MET67], 0.01),\n",
       " ([GLN70, CL6863], 0.01),\n",
       " ([NA6828, GLU63], 0.01),\n",
       " ([ASP69, CL6862], 0.01),\n",
       " ([NA6832, THR74], 0.01),\n",
       " ([GLN61, VAL8], 0.01),\n",
       " ([GLY13, GLU62], 0.010000000000000002),\n",
       " ([ARG68, GLN61], 0.010000000000000009),\n",
       " ([ARG68, TYR64], 0.010000000000000009),\n",
       " ([VAL9, MET72], 0.010000000000000009),\n",
       " ([TYR71, VAL7], 0.010000000000000009),\n",
       " ([GLU62, NA6831], 0.02),\n",
       " ([ASP69, HIS95], 0.02),\n",
       " ([CL6864, GLU76], 0.02),\n",
       " ([ARG68, CL6859], 0.02),\n",
       " ([ARG73, ALA66], 0.02),\n",
       " ([GLN70, NA6821], 0.02),\n",
       " ([GLN61, LYS16], 0.02),\n",
       " ([CL6850, ARG68], 0.02),\n",
       " ([GLU63, NA6831], 0.02),\n",
       " ([ARG73, NA6838], 0.02),\n",
       " ([MET67, GLU63], 0.02),\n",
       " ([ALA59, ASP69], 0.02),\n",
       " ([GLN99, GLY60], 0.02),\n",
       " ([NA6833, GLU63], 0.02),\n",
       " ([NA6819, GLU63], 0.02),\n",
       " ([GLU62, NA6829], 0.02),\n",
       " ([ASP92, GLU62], 0.020000000000000018),\n",
       " ([GLY12, GLU62], 0.020000000000000018),\n",
       " ([ILE163, GLU76], 0.020000000000000018),\n",
       " ([ALA66, ASP69], 0.03),\n",
       " ([ASP69, TYR64], 0.03),\n",
       " ([NA6820, GLU63], 0.03),\n",
       " ([NA6841, TYR64], 0.03),\n",
       " ([GLN99, GLU62], 0.03),\n",
       " ([ILE100, MET72], 0.040000000000000036),\n",
       " ([GLU76, LEU6], 0.040000000000000036),\n",
       " ([VAL7, MET72], 0.040000000000000036),\n",
       " ([NA6841, GLU62], 0.05),\n",
       " ([GLY75, PHE78], 0.050000000000000044),\n",
       " ([ARG68, ARG102], 0.06),\n",
       " ([TYR4, GLU76], 0.06999999999999995),\n",
       " ([GLN99, MET72], 0.07999999999999996),\n",
       " ([THR58, MET72], 0.07999999999999996),\n",
       " ([GLU62, GTP201], 0.08),\n",
       " ([ILE55, TYR71], 0.10000000000000003),\n",
       " ([ARG68, VAL103], 0.11),\n",
       " ([GLY10, GLU62], 0.11),\n",
       " ([NA6816, GLU62], 0.11),\n",
       " ([THR74, LYS104], 0.12),\n",
       " ([NA6824, GLU76], 0.13),\n",
       " ([LYS5, TYR71], 0.14),\n",
       " ([NA6832, GLU76], 0.15),\n",
       " ([SER65, GLN61], 0.16),\n",
       " ([GLU62, HIS95], 0.17),\n",
       " ([GLY10, GLN61], 0.18999999999999997),\n",
       " ([VAL9, GLN61], 0.21),\n",
       " ([GLU3, GLU76], 0.21999999999999997),\n",
       " ([ARG102, TYR64], 0.22),\n",
       " ([GLY75, LEU6], 0.25),\n",
       " ([GLU62, TYR96], 0.25),\n",
       " ([HIS95, TYR64], 0.26),\n",
       " ([MET67, GLN61], 0.26),\n",
       " ([GLN99, TYR64], 0.3),\n",
       " ([ASP54, TYR71], 0.33999999999999997),\n",
       " ([SER39, TYR71], 0.33999999999999997),\n",
       " ([TYR96, MET72], 0.34),\n",
       " ([MET67, GLY60], 0.34),\n",
       " ([ALA66, GLN70], 0.37),\n",
       " ([GLN99, ARG68], 0.39999999999999997),\n",
       " ([ASP57, TYR71], 0.41999999999999993),\n",
       " ([GLN99, GLN61], 0.5),\n",
       " ([ASP69, GLN61], 0.5499999999999999),\n",
       " ([GLY60, TYR64], 0.58),\n",
       " ([MET67, ALA59], 0.66),\n",
       " ([THR74, VAL7], 0.8),\n",
       " ([GLN61, MET72], 0.87),\n",
       " ([GLN61, TYR64], 0.96),\n",
       " ([SER65, GLY60], 0.98),\n",
       " ([THR58, GLN61], 1.0)]"
      ]
     },
     "execution_count": 17,
     "metadata": {},
     "output_type": "execute_result"
    }
   ],
   "source": [
    "# residue contact more important in frame than in trajectory (near -1)\n",
    "list(reversed(diff.residue_contacts.most_common()))[:]\n",
    "# alternate: diff.residue_contacts.most_common()[:-10:-1] # (thanks Sander!)"
   ]
  },
  {
   "cell_type": "markdown",
   "metadata": {},
   "source": [
    "### List the atoms contacts most common within a given residue contact"
   ]
  },
  {
   "cell_type": "code",
   "execution_count": 18,
   "metadata": {
    "collapsed": false
   },
   "outputs": [
    {
     "name": "stdout",
     "output_type": "stream",
     "text": [
      "ASP30 ASP33\n",
      "GTP201 MG202\n"
     ]
    }
   ],
   "source": [
    "asp30 = topology.residue(29)\n",
    "asp33 = topology.residue(32)\n",
    "print(asp30, asp33)\n",
    "gtp201= topology.residue(166)\n",
    "mg202 = topology.residue(167)\n",
    "print(gtp201, mg202)"
   ]
  },
  {
   "cell_type": "markdown",
   "metadata": {},
   "source": [
    "We extended the standard `.most_common()` to take an optional argument. When the argument is given, it will filter the output to only include the ones where that argument is part of the contact. For example, the following gives the residues most commonly in contact with GTP."
   ]
  },
  {
   "cell_type": "code",
   "execution_count": 19,
   "metadata": {
    "collapsed": false
   },
   "outputs": [
    {
     "name": "stdout",
     "output_type": "stream",
     "text": [
      "([GLU62, GTP201], 0.08)\n",
      "([GLY60, GTP201], -0.1)\n",
      "([GTP201, GLU63], -0.77)\n"
     ]
    }
   ],
   "source": [
    "for contact in diff.residue_contacts.most_common(gtp201):\n",
    "    print (contact)\n",
    "for contact in diff.residue_contacts.most_common(mg202):\n",
    "    print (contact)"
   ]
  },
  {
   "cell_type": "markdown",
   "metadata": {},
   "source": [
    "We can also find all the atoms, for all residue contacts, that are in contact with a given residue, and return that sorted by frequency."
   ]
  },
  {
   "cell_type": "code",
   "execution_count": 20,
   "metadata": {
    "collapsed": false
   },
   "outputs": [
    {
     "data": {
      "text/plain": [
       "[([GLU63-OE2, GTP201-O3G], -0.5),\n",
       " ([GTP201-O3G, GLU63-OE1], -0.48),\n",
       " ([GTP201-O3G, GLU63-CD], -0.34),\n",
       " ([GLU63-OE2, GTP201-O2G], -0.26),\n",
       " ([GTP201-O2G, GLU63-OE1], -0.25),\n",
       " ([GTP201-PG, GLU63-OE1], -0.24),\n",
       " ([GLU63-OE2, GTP201-PG], -0.18),\n",
       " ([GTP201-O3G, GLY60-N], -0.1),\n",
       " ([GTP201-O2G, GLU63-CD], -0.09),\n",
       " ([GLU63-OE2, GTP201-O1G], -0.03),\n",
       " ([GTP201-PG, GLU63-CD], -0.02),\n",
       " ([GTP201-O1G, GLU63-OE1], -0.01),\n",
       " ([GTP201-O3G, GLU62-CD], 0.01),\n",
       " ([GTP201-O2G, GLU62-CD], 0.01)]"
      ]
     },
     "execution_count": 20,
     "metadata": {},
     "output_type": "execute_result"
    }
   ],
   "source": [
    "diff.most_common_atoms_for_residue(gtp201)[:-15:-1]"
   ]
  },
  {
   "cell_type": "markdown",
   "metadata": {},
   "source": [
    "Finally, we can look at which atoms are most commonly in contact within a given residue contact pair."
   ]
  },
  {
   "cell_type": "code",
   "execution_count": 21,
   "metadata": {
    "collapsed": false
   },
   "outputs": [
    {
     "data": {
      "text/plain": [
       "[]"
      ]
     },
     "execution_count": 21,
     "metadata": {},
     "output_type": "execute_result"
    }
   ],
   "source": [
    "trajectory_contacts2.most_common_atoms_for_contact([gtp201, asp33])"
   ]
  },
  {
   "cell_type": "markdown",
   "metadata": {},
   "source": [
    "## Changing the defaults\n",
    "\n",
    "This sections covers several options that you can modify to make the contact maps faster, and to focus on what you're most interested in.\n",
    "\n",
    "The first three options change which atoms are included as possible contacts. The query atoms are the atoms which appear on the y-axis of the plot. The haystack atoms are those along the x-axis of the plot. In general, you should choose a query that is smaller than the haystack.\n",
    "\n",
    "Both of these options take a list of atom index numbers. These are most easily created using MDTraj's atom selection language."
   ]
  },
  {
   "cell_type": "code",
   "execution_count": 22,
   "metadata": {
    "collapsed": false
   },
   "outputs": [
    {
     "name": "stdout",
     "output_type": "stream",
     "text": [
      "1408\n"
     ]
    }
   ],
   "source": [
    "# the default selection is\n",
    "default_selection = topology.select(\"not water and not symbol == 'H'\")\n",
    "print(len(default_selection))"
   ]
  },
  {
   "cell_type": "markdown",
   "metadata": {},
   "source": [
    "### Using a different query"
   ]
  },
  {
   "cell_type": "code",
   "execution_count": 23,
   "metadata": {
    "collapsed": false
   },
   "outputs": [],
   "source": [
    "switch1 = topology.select(\"protein and resSeq 32 to 38 and not symbol == 'H'\")\n",
    "switch2 = topology.select(\"protein and resSeq 59 to 67 and not symbol == 'H'\")\n",
    "gtp = topology.select(\"resname GTP and not symbol == 'H'\")\n",
    "mg = topology.select(\"element Mg\")\n",
    "cations = topology.select(\"resname NA or resname MG\")\n",
    "sodium = topology.select(\"resname NA\")"
   ]
  },
  {
   "cell_type": "code",
   "execution_count": 24,
   "metadata": {
    "collapsed": false
   },
   "outputs": [
    {
     "name": "stdout",
     "output_type": "stream",
     "text": [
      "CPU times: user 1min 44s, sys: 3.38 s, total: 1min 48s\n",
      "Wall time: 31.6 s\n"
     ]
    }
   ],
   "source": [
    "%%time\n",
    "sw1_contacts = ContactFrequency(trajectory=traj[::100], query=switch1)"
   ]
  },
  {
   "cell_type": "code",
   "execution_count": 25,
   "metadata": {
    "collapsed": false
   },
   "outputs": [
    {
     "name": "stdout",
     "output_type": "stream",
     "text": [
      "Using markersize of 9 pixels.\n",
      "CPU times: user 63.1 ms, sys: 100 µs, total: 63.2 ms\n",
      "Wall time: 61.8 ms\n"
     ]
    },
    {
     "data": {
      "image/png": "[encoded data removed]",
      "text/plain": [
       "<matplotlib.figure.Figure at 0x7f49820a6470>"
      ]
     },
     "metadata": {},
     "output_type": "display_data"
    }
   ],
   "source": [
    "%%time\n",
    "fig, = dok2plt(sw1_contacts.residue_contacts.sparse_matrix, xmin=0, xmax = 50, ymin=0, ymax=50)"
   ]
  },
  {
   "cell_type": "markdown",
   "metadata": {},
   "source": [
    "### Using a different haystack\n",
    "\n",
    "Currently, changing the haystack has essentially no effect on the performance. However, I expect to change that in the  future (requires making some modifications to MDTraj)."
   ]
  },
  {
   "cell_type": "code",
   "execution_count": 26,
   "metadata": {
    "collapsed": false
   },
   "outputs": [
    {
     "name": "stdout",
     "output_type": "stream",
     "text": [
      "CPU times: user 1min 44s, sys: 3.39 s, total: 1min 47s\n",
      "Wall time: 30.5 s\n"
     ]
    }
   ],
   "source": [
    "%%time\n",
    "cations_switch1 = ContactFrequency(trajectory=traj[::100], query=cations, haystack=switch1)"
   ]
  },
  {
   "cell_type": "code",
   "execution_count": 27,
   "metadata": {
    "collapsed": false
   },
   "outputs": [
    {
     "name": "stdout",
     "output_type": "stream",
     "text": [
      "Using markersize of 2 pixels.\n",
      "CPU times: user 365 ms, sys: 3.98 ms, total: 369 ms\n",
      "Wall time: 214 ms\n"
     ]
    },
    {
     "data": {
      "image/png": "[encoded data removed]",
      "text/plain": [
       "<matplotlib.figure.Figure at 0x7f49820bef60>"
      ]
     },
     "metadata": {},
     "output_type": "display_data"
    }
   ],
   "source": [
    "%%time\n",
    "fig, = dok2plt(cations_switch1.residue_contacts.sparse_matrix)"
   ]
  },
  {
   "cell_type": "markdown",
   "metadata": {},
   "source": [
    "### Changing how many neighboring residues are ignored\n",
    "\n",
    "By default, we ignore atoms from 2 residues on either side of the given residue (and in the same `chain`). This is easily changed. However, even when you say to ignore no neighbors, you still ignore the residue's interactions with itself.\n",
    "\n",
    "Note: for non-protein contact, the `chain` is often poorly defined. In this example, the GTP and the Mg are listed sequentially in residue order, and therefore they are considered \"neighbors\" and their contacts are ignored."
   ]
  },
  {
   "cell_type": "code",
   "execution_count": 28,
   "metadata": {
    "collapsed": false
   },
   "outputs": [
    {
     "name": "stdout",
     "output_type": "stream",
     "text": [
      "CPU times: user 2min 9s, sys: 4.1 s, total: 2min 13s\n",
      "Wall time: 39.6 s\n"
     ]
    }
   ],
   "source": [
    "%%time\n",
    "ignore_none = ContactFrequency(trajectory=traj[::100], n_neighbors_ignored=0)"
   ]
  },
  {
   "cell_type": "code",
   "execution_count": 29,
   "metadata": {
    "collapsed": false
   },
   "outputs": [
    {
     "name": "stdout",
     "output_type": "stream",
     "text": [
      "Using markersize of 2 pixels.\n",
      "CPU times: user 317 ms, sys: 20 ms, total: 337 ms\n",
      "Wall time: 209 ms\n"
     ]
    },
    {
     "data": {
      "image/png": "[encoded data removed]",
      "text/plain": [
       "<matplotlib.figure.Figure at 0x7f49827c7cf8>"
      ]
     },
     "metadata": {},
     "output_type": "display_data"
    }
   ],
   "source": [
    "%%time\n",
    "fig, = dok2plt(ignore_none.residue_contacts.sparse_matrix)"
   ]
  }
 ],
 "metadata": {
  "kernelspec": {
   "display_name": "Python 3",
   "language": "python",
   "name": "python3"
  },
  "language_info": {
   "codemirror_mode": {
    "name": "ipython",
    "version": 3
   },
   "file_extension": ".py",
   "mimetype": "text/x-python",
   "name": "python",
   "nbconvert_exporter": "python",
   "pygments_lexer": "ipython3",
   "version": "3.5.1"
  }
 },
 "nbformat": 4,
 "nbformat_minor": 0
}
