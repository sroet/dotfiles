{
 "cells": [
  {
   "cell_type": "code",
   "execution_count": 1,
   "metadata": {
    "collapsed": false
   },
   "outputs": [],
   "source": [
    "from __future__ import print_function\n",
    "from simtk.openmm import app\n",
    "import simtk.openmm as mm\n",
    "from simtk import unit\n",
    "from sys import stdout\n",
    "import parmed as pmd"
   ]
  },
  {
   "cell_type": "code",
   "execution_count": 2,
   "metadata": {
    "collapsed": false
   },
   "outputs": [
    {
     "name": "stdout",
     "output_type": "stream",
     "text": [
      "Loading PDB and forcefield\n",
      "Creating OpenMM System\n",
      "<simtk.openmm.openmm.HarmonicBondForce; proxy of <Swig Object of type 'OpenMM::HarmonicBondForce *' at 0x7eff2d762690> >\n",
      "<simtk.openmm.openmm.HarmonicAngleForce; proxy of <Swig Object of type 'OpenMM::HarmonicAngleForce *' at 0x7eff0fa55720> >\n",
      "<simtk.openmm.openmm.PeriodicTorsionForce; proxy of <Swig Object of type 'OpenMM::PeriodicTorsionForce *' at 0x7eff2d762690> >\n",
      "<simtk.openmm.openmm.NonbondedForce; proxy of <Swig Object of type 'OpenMM::NonbondedForce *' at 0x7eff0fa55720> >\n",
      "<simtk.openmm.openmm.CMMotionRemover; proxy of <Swig Object of type 'OpenMM::CMMotionRemover *' at 0x7eff2d762690> >\n",
      "-324398.353326 kJ/mol\n",
      "CPU times: user 15.6 s, sys: 140 ms, total: 15.7 s\n",
      "Wall time: 7.5 s\n"
     ]
    }
   ],
   "source": [
    "%%time\n",
    "print(\"Loading PDB and forcefield\")\n",
    "pdb = app.PDBFile('/home/sanderroet/scripts/test_show/vis-test.pdb')\n",
    "forcefield = app.ForceField('amber99sbildn.xml', 'tip3p.xml', 'gtp.xml')\n",
    "\n",
    "print(\"Creating OpenMM System\")\n",
    "system = forcefield.createSystem(pdb.topology, nonbondedMethod=app.PME, \n",
    "    nonbondedCutoff=1.0*unit.nanometers, constraints=app.HBonds)\n",
    "\n",
    "integrator = mm.LangevinIntegrator(300*unit.kelvin, 1.0/unit.picoseconds, \n",
    "    2.0*unit.femtoseconds)\n",
    "\n",
    "integrator.setConstraintTolerance(0.00001)\n",
    "\n",
    "platform = mm.Platform.getPlatformByName('CPU')\n",
    "simulation = app.Simulation(pdb.topology, system, integrator, platform)\n",
    "simulation.context.setPositions(pdb.positions)\n",
    "for i in range(system.getNumForces()):\n",
    "    force = system.getForce(i)\n",
    "    print(force)\n",
    "    force.setForceGroup(i)\n",
    "print(simulation.context.getState(getEnergy=True, groups={3}).getPotentialEnergy())\n",
    "\n",
    "#print('Minimizing...')\n",
    "#simulation.minimizeEnergy(maxIterations = 2)\n",
    "#print('Done minimizing')"
   ]
  },
  {
   "cell_type": "code",
   "execution_count": null,
   "metadata": {
    "collapsed": true
   },
   "outputs": [],
   "source": []
  }
 ],
 "metadata": {
  "kernelspec": {
   "display_name": "Python 2",
   "language": "python",
   "name": "python2"
  },
  "language_info": {
   "codemirror_mode": {
    "name": "ipython",
    "version": 2
   },
   "file_extension": ".py",
   "mimetype": "text/x-python",
   "name": "python",
   "nbconvert_exporter": "python",
   "pygments_lexer": "ipython2",
   "version": "2.7.11"
  }
 },
 "nbformat": 4,
 "nbformat_minor": 0
}
