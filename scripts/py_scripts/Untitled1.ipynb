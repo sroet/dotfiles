{
 "cells": [
  {
   "cell_type": "code",
   "execution_count": 4,
   "metadata": {
    "collapsed": false
   },
   "outputs": [],
   "source": [
    "f_old = open('/home/sanderroet/forcefield_test/cut_off_all_bonds/constraints.itp', 'r') \n",
    "f_new  = open('/home/sanderroet/forcefield_test/cut_off_all_bonds/constraints_new.itp', 'r')\n",
    "\n",
    "old = []\n",
    "new = []\n",
    "for line in f_old:\n",
    "    if line[0] == ';':\n",
    "        old.append(0)\n",
    "    else:\n",
    "        old.append(1)\n",
    "for line in f_new:\n",
    "    if line[0] == ';':\n",
    "        new.append(0)\n",
    "    else:\n",
    "        new.append(1)\n",
    "\n",
    "for i,e in enumerate(old):\n",
    "    if e != new[i]:\n",
    "        print[i]\n",
    "\n",
    "f_old.close()\n",
    "f_new.close()"
   ]
  },
  {
   "cell_type": "code",
   "execution_count": null,
   "metadata": {
    "collapsed": true
   },
   "outputs": [],
   "source": []
  }
 ],
 "metadata": {
  "kernelspec": {
   "display_name": "Python 2",
   "language": "python",
   "name": "python2"
  },
  "language_info": {
   "codemirror_mode": {
    "name": "ipython",
    "version": 2
   },
   "file_extension": ".py",
   "mimetype": "text/x-python",
   "name": "python",
   "nbconvert_exporter": "python",
   "pygments_lexer": "ipython2",
   "version": "2.7.11"
  }
 },
 "nbformat": 4,
 "nbformat_minor": 0
}
