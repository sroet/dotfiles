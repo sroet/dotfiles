{
 "cells": [
  {
   "cell_type": "code",
   "execution_count": 1,
   "metadata": {
    "collapsed": false
   },
   "outputs": [],
   "source": [
    "from __future__ import print_function\n",
    "from simtk.openmm import app\n",
    "import simtk.openmm as mm\n",
    "from simtk import unit\n",
    "from sys import stdout\n",
    "current_dir ='/home/sanderroet/scripts/test_show/'\n",
    "\n",
    "gro = app.GromacsGroFile(current_dir+'vis-md.gro')\n",
    "top = app.GromacsTopFile(current_dir+'topol.top', periodicBoxVectors=gro.getPeriodicBoxVectors(),\n",
    "                        includeDir='/home/sanderroet/top')\n",
    "\n",
    "\n"
   ]
  },
  {
   "cell_type": "code",
   "execution_count": null,
   "metadata": {
    "collapsed": false
   },
   "outputs": [],
   "source": [
    "system = top.createSystem(nonbondedMethod=app.PME, nonbondedCutoff=1.1*unit.nanometer,\n",
    "        constraints=app.HBonds, rigidWater=False, ewaldErrorTolerance=0.0005)\n",
    "integrator = mm.LangevinIntegrator(310*unit.kelvin, 1.0/unit.picosecond, 2.0*unit.femtoseconds)\n",
    "system.addForce(mm.MonteCarloBarostat(1*unit.atmospheres, 310*unit.kelvin, 25))\n",
    "\n",
    "#platform = mm.Platform.getPlatformByName('CPU')\n",
    "\n",
    "simulation =app.Simulation(top.topology, system, integrator)#,platform)\n",
    "simulation.context.setPositions(gro.positions)"
   ]
  },
  {
   "cell_type": "code",
   "execution_count": null,
   "metadata": {
    "collapsed": false
   },
   "outputs": [
    {
     "name": "stdout",
     "output_type": "stream",
     "text": [
      "Minimizing...\n"
     ]
    }
   ],
   "source": [
    "%%time\n",
    "print('Minimizing...')\n",
    "simulation.minimizeEnergy()\n",
    "print('Done minimizing')"
   ]
  },
  {
   "cell_type": "code",
   "execution_count": null,
   "metadata": {
    "collapsed": false
   },
   "outputs": [],
   "source": [
    "dof = 0\n",
    "system = simulation.system\n",
    "dofs_from_particles = 0\n",
    "for i in range(system.getNumParticles()):\n",
    "    if system.getParticleMass(i) > 0* unit.dalton:\n",
    "        dofs_from_particles += 3\n",
    "dofs_from_constraints = system.getNumConstraints()\n",
    "dofs_from_motion_removers = 0\n",
    "if any(type(system.getForce(i)) == mm.CMMotionRemover for i in range(system.getNumForces())):\n",
    "    dofs_from_motion_removers += 3\n",
    "dof = dofs_from_particles - dofs_from_constraints - dofs_from_motion_removers\n",
    "print (dof) \n",
    "print (dofs_from_particles)\n",
    "print (dofs_from_constraints)\n",
    "print (dofs_from_motion_removers)\n",
    "#print dof, \"=\", dofs_from_particles, \"-\", dofs_from_constraints, \"-\", dofs_from_motion_removers"
   ]
  },
  {
   "cell_type": "code",
   "execution_count": null,
   "metadata": {
    "collapsed": true
   },
   "outputs": [],
   "source": [
    "simulation.context.setVelocitiesToTemperature(310*unit.kelvin)"
   ]
  },
  {
   "cell_type": "code",
   "execution_count": null,
   "metadata": {
    "collapsed": false
   },
   "outputs": [],
   "source": [
    "state = simulation.context.getState(getVelocities=True, getEnergy=True)\n",
    "R = unit.BOLTZMANN_CONSTANT_kB * unit.AVOGADRO_CONSTANT_NA\n",
    "\n",
    "ke = state.getKineticEnergy()\n",
    "\n",
    "print(ke)\n",
    "print(2 * ke / dof / R)\n",
    "print(310*unit.kelvin/2*dof*R)\n",
    "print(ke/(310*unit.kelvin/2*dof*R))\n",
    "print()"
   ]
  },
  {
   "cell_type": "code",
   "execution_count": null,
   "metadata": {
    "collapsed": false
   },
   "outputs": [],
   "source": [
    "\n",
    "simulation.reporters.append(app.StateDataReporter(stdout, 1, step=True, \n",
    "    potentialEnergy=True, temperature=True, progress=True, remainingTime=True, \n",
    "    speed=True, totalSteps=1000, separator='\\t'))\n",
    "\n",
    "print('Equilibrating...')\n",
    "simulation.step(100)"
   ]
  },
  {
   "cell_type": "code",
   "execution_count": null,
   "metadata": {
    "collapsed": false
   },
   "outputs": [],
   "source": [
    "%%time\n",
    "simulation.reporters.append(app.PDBReporter(current_dir+'new_trajectory.pdb', 1000))\n",
    "simulation.reporters.append(app.DCDReporter(current_dir+'new_trajectory.dcd', 10))\n",
    "simulation.reporters.append(app.StateDataReporter(stdout, 10, step=True, \n",
    "    potentialEnergy=True, temperature=True, progress=True, remainingTime=True, \n",
    "    speed=True, totalSteps=1000, separator='\\t'))\n"
   ]
  },
  {
   "cell_type": "code",
   "execution_count": null,
   "metadata": {
    "collapsed": false,
    "scrolled": true
   },
   "outputs": [],
   "source": [
    "%%time\n",
    "\n",
    "#print('Running Production...')\n",
    "#simulation.step(1000)\n",
    "#print('Done!')"
   ]
  },
  {
   "cell_type": "code",
   "execution_count": null,
   "metadata": {
    "collapsed": true
   },
   "outputs": [],
   "source": []
  }
 ],
 "metadata": {
  "kernelspec": {
   "display_name": "Python 2",
   "language": "python",
   "name": "python2"
  },
  "language_info": {
   "codemirror_mode": {
    "name": "ipython",
    "version": 2
   },
   "file_extension": ".py",
   "mimetype": "text/x-python",
   "name": "python",
   "nbconvert_exporter": "python",
   "pygments_lexer": "ipython2",
   "version": "2.7.11"
  }
 },
 "nbformat": 4,
 "nbformat_minor": 0
}
