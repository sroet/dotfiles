{
 "cells": [
  {
   "cell_type": "markdown",
   "metadata": {},
   "source": [
    "# Contact Maps\n",
    "\n",
    "The file `contact_map.py` includes some tricks to study contact maps in protein dynamics, based on tools in MDTraj. This notebook shows examples as serves as documentation."
   ]
  },
  {
   "cell_type": "code",
   "execution_count": 1,
   "metadata": {
    "collapsed": false
   },
   "outputs": [],
   "source": [
    "%matplotlib inline\n",
    "import matplotlib.pyplot as plt\n",
    "from dok2ax import dok2plt"
   ]
  },
  {
   "cell_type": "code",
   "execution_count": 2,
   "metadata": {
    "collapsed": false
   },
   "outputs": [
    {
     "name": "stdout",
     "output_type": "stream",
     "text": [
      "<mdtraj.Topology with 3 chains, 6832 residues, 22561 atoms, 15873 bonds>\n"
     ]
    }
   ],
   "source": [
    "import mdtraj as md\n",
    "traj = md.load(\"/home/sanderroet/scripts/test_show/vis-md.xtc\", top=\"/home/sanderroet/scripts/test_show/vis-md.pdb\")\n",
    "topology = traj.topology\n",
    "print(topology)"
   ]
  },
  {
   "cell_type": "code",
   "execution_count": 3,
   "metadata": {
    "collapsed": false
   },
   "outputs": [
    {
     "name": "stdout",
     "output_type": "stream",
     "text": [
      "<mdtraj.Topology with 5 chains, 6832 residues, 22561 atoms, 15873 bonds>\n"
     ]
    }
   ],
   "source": [
    "newtop = topology.subset([])\n",
    "oldtop = topology\n",
    "for i in ['protein', 'resname GTP', 'element Mg']:\n",
    "    temp1 = oldtop.select(i)\n",
    "    temp2 = oldtop.select('not '+i)\n",
    "    temp3 = oldtop.subset(temp1)\n",
    "    oldtop = oldtop.subset(temp2)\n",
    "    newtop = newtop.join(temp3)\n",
    "newtop = newtop.join(oldtop)\n",
    "traj.topology = newtop\n",
    "topology = traj.topology\n",
    "print(topology)"
   ]
  },
  {
   "cell_type": "code",
   "execution_count": 4,
   "metadata": {
    "collapsed": false
   },
   "outputs": [],
   "source": [
    "from contact_map import ContactMap, ContactFrequency, ContactDifference"
   ]
  },
  {
   "cell_type": "markdown",
   "metadata": {},
   "source": [
    "## Look at a single frame: `ContactMap`\n",
    "\n",
    "First we make the contact map for the 0th frame. For default parameters (and how to change them) see section \"Changing the defaults\" below."
   ]
  },
  {
   "cell_type": "code",
   "execution_count": 5,
   "metadata": {
    "collapsed": false,
    "scrolled": true
   },
   "outputs": [
    {
     "name": "stdout",
     "output_type": "stream",
     "text": [
      "CPU times: user 1.62 s, sys: 36.1 ms, total: 1.65 s\n",
      "Wall time: 595 ms\n"
     ]
    }
   ],
   "source": [
    "%%time\n",
    "frame_contacts = ContactMap(traj[0])"
   ]
  },
  {
   "cell_type": "code",
   "execution_count": 6,
   "metadata": {
    "collapsed": false
   },
   "outputs": [
    {
     "name": "stdout",
     "output_type": "stream",
     "text": [
      "Using markersize of 2 pixels.\n",
      "CPU times: user 79.1 ms, sys: 3.99 ms, total: 83 ms\n",
      "Wall time: 81.3 ms\n"
     ]
    },
    {
     "data": {
      "image/png": "[encoded data removed]",
      "text/plain": [
       "<matplotlib.figure.Figure at 0x7fec727f6cc0>"
      ]
     },
     "metadata": {},
     "output_type": "display_data"
    }
   ],
   "source": [
    "%%time\n",
    "fig = dok2plt(frame_contacts.residue_contacts.sparse_matrix)"
   ]
  },
  {
   "cell_type": "markdown",
   "metadata": {},
   "source": [
    "If you wanted to, you could also plot all the atom-atom contacts. But that takes a lot longer, so it is commented out."
   ]
  },
  {
   "cell_type": "code",
   "execution_count": 7,
   "metadata": {
    "collapsed": false
   },
   "outputs": [
    {
     "name": "stderr",
     "output_type": "stream",
     "text": [
      "/home/sanderroet/scripts/dok2ax.py:38: UserWarning: Increased standard dpi from 80 to 453.\n",
      "  +str(dpi)+'.')\n"
     ]
    },
    {
     "name": "stdout",
     "output_type": "stream",
     "text": [
      "Using markersize of 1 pixels.\n",
      "CPU times: user 235 ms, sys: 51 µs, total: 235 ms\n",
      "Wall time: 233 ms\n"
     ]
    },
    {
     "data": {
      "image/png": "[encoded data removed]",
      "text/plain": [
       "<matplotlib.figure.Figure at 0x7fec72884048>"
      ]
     },
     "metadata": {},
     "output_type": "display_data"
    }
   ],
   "source": [
    "%%time\n",
    "fig = dok2plt(frame_contacts.atom_contacts.sparse_matrix)\n"
   ]
  },
  {
   "cell_type": "markdown",
   "metadata": {},
   "source": [
    "## Look at a trajectory: `ContactFrequency`\n",
    "\n",
    "`ContactFrequency` finds the fraction of frames where each contact exists."
   ]
  },
  {
   "cell_type": "code",
   "execution_count": 8,
   "metadata": {
    "collapsed": false
   },
   "outputs": [
    {
     "name": "stdout",
     "output_type": "stream",
     "text": [
      "CPU times: user 4min 38s, sys: 8.13 s, total: 4min 46s\n",
      "Wall time: 1min 13s\n"
     ]
    }
   ],
   "source": [
    "%%time\n",
    "trajectory_contacts1 = ContactFrequency(traj[0:100:1])\n",
    "trajectory_contacts2 = ContactFrequency(traj[200:300:1])"
   ]
  },
  {
   "cell_type": "code",
   "execution_count": 9,
   "metadata": {
    "collapsed": false
   },
   "outputs": [],
   "source": [
    "# if you want to save this for later analysis\n",
    "trajectory_contacts1.save_to_file(\"traj_contacts0_100.p\")\n",
    "trajectory_contacts2.save_to_file(\"traj_contacts200_300.p\")\n",
    "# then load with ContactFrequency.from_file(\"traj_contacts.p\")"
   ]
  },
  {
   "cell_type": "code",
   "execution_count": 10,
   "metadata": {
    "collapsed": false
   },
   "outputs": [],
   "source": [
    "#load_contacts = ContactFrequency.from_file(\"traj_contacts.p\")"
   ]
  },
  {
   "cell_type": "code",
   "execution_count": 11,
   "metadata": {
    "collapsed": false
   },
   "outputs": [
    {
     "name": "stdout",
     "output_type": "stream",
     "text": [
      "Using markersize of 2 pixels.\n",
      "Using markersize of 2 pixels.\n",
      "CPU times: user 174 ms, sys: 56 µs, total: 174 ms\n",
      "Wall time: 172 ms\n"
     ]
    },
    {
     "data": {
      "image/png": "[encoded data removed]",
      "text/plain": [
       "<matplotlib.figure.Figure at 0x7fec6808b278>"
      ]
     },
     "metadata": {},
     "output_type": "display_data"
    },
    {
     "data": {
      "image/png": "[encoded data removed]",
      "text/plain": [
       "<matplotlib.figure.Figure at 0x7fec6808b2b0>"
      ]
     },
     "metadata": {},
     "output_type": "display_data"
    }
   ],
   "source": [
    "%%time\n",
    "for i in [trajectory_contacts1,trajectory_contacts2]:\n",
    "    fig, = dok2plt(i.residue_contacts.sparse_matrix)"
   ]
  },
  {
   "cell_type": "markdown",
   "metadata": {},
   "source": [
    "## Compare two: `ContactDifference`\n",
    "\n",
    "If you want to compare two frequencies, you can use the `ContactDifference` class (or the shortcut for it, which is to subtract a contact frequency/map from another.)\n",
    "\n",
    "The example below will compare the trajectory to its first frame."
   ]
  },
  {
   "cell_type": "code",
   "execution_count": 12,
   "metadata": {
    "collapsed": false
   },
   "outputs": [
    {
     "name": "stdout",
     "output_type": "stream",
     "text": [
      "CPU times: user 11.7 ms, sys: 0 ns, total: 11.7 ms\n",
      "Wall time: 11.3 ms\n"
     ]
    }
   ],
   "source": [
    "%%time\n",
    "diff = trajectory_contacts1 - trajectory_contacts2"
   ]
  },
  {
   "cell_type": "markdown",
   "metadata": {},
   "source": [
    "A contact that appears in trajectory, but not in the frame, will be at +1 and will be shown in red below. A contact that appears in the frame, but not the trajectory, will be at -1 and will be shown in blue below. The values are the difference in the frequencies (of course, for a single frame, the frequency is always 0 or 1)."
   ]
  },
  {
   "cell_type": "code",
   "execution_count": 13,
   "metadata": {
    "collapsed": false
   },
   "outputs": [
    {
     "name": "stdout",
     "output_type": "stream",
     "text": [
      "Using markersize of 2 pixels.\n",
      "CPU times: user 167 ms, sys: 305 µs, total: 167 ms\n",
      "Wall time: 158 ms\n"
     ]
    },
    {
     "data": {
      "image/png": "[encoded data removed]",
      "text/plain": [
       "<matplotlib.figure.Figure at 0x7fec680e5940>"
      ]
     },
     "metadata": {},
     "output_type": "display_data"
    }
   ],
   "source": [
    "%%time\n",
    "fig = dok2plt(diff.residue_contacts.sparse_matrix)"
   ]
  },
  {
   "cell_type": "markdown",
   "metadata": {},
   "source": [
    "### List the residue contacts that show the most difference\n",
    "\n",
    "First we look at the frames that are much more important in the trajectory than the frame. Then we look at the frames that are more important in the frame than the trajectory.\n",
    "\n",
    "The `.most_common()` method gives a list of the contact pairs and the frequency, sorted by frequency. See also `collections.Counter.most_common()` in the standard Python `collections` module.\n",
    "\n",
    "Here we do this with the `ContactDifference` we created, although it works the same for `ContactFrequency` and `ContactMap` (with the single-frame contact map, the ordering is a bit nonsensical, since every entry is either 0 or 1)."
   ]
  },
  {
   "cell_type": "code",
   "execution_count": 14,
   "metadata": {
    "collapsed": false
   },
   "outputs": [
    {
     "name": "stdout",
     "output_type": "stream",
     "text": [
      "CPU times: user 5.76 ms, sys: 0 ns, total: 5.76 ms\n",
      "Wall time: 5.61 ms\n"
     ]
    },
    {
     "data": {
      "text/plain": [
       "[([CL6859, NA6828], 0.99),\n",
       " ([LEU19, ASN116], 0.99),\n",
       " ([LEU19, THR144], 0.95),\n",
       " ([SER65, GLU37], 0.9299999999999999),\n",
       " ([SER65, TYR71], 0.84),\n",
       " ([ARG164, ASP47], 0.84),\n",
       " ([GTP201, GLU63], 0.83),\n",
       " ([ASP57, ASP38], 0.7999999999999999),\n",
       " ([NA6816, CL6860], 0.77),\n",
       " ([NA6835, CL6861], 0.77)]"
      ]
     },
     "execution_count": 14,
     "metadata": {},
     "output_type": "execute_result"
    }
   ],
   "source": [
    "%%time\n",
    "# residue contact more important in trajectory than in frame (near +1)\n",
    "diff.residue_contacts.most_common()[:10]"
   ]
  },
  {
   "cell_type": "code",
   "execution_count": 15,
   "metadata": {
    "collapsed": false
   },
   "outputs": [
    {
     "data": {
      "text/plain": [
       "[([GLN61, TYR64], -0.98),\n",
       " ([ALA66, GLN70], -0.94),\n",
       " ([GLY12, NA6837], -0.91),\n",
       " ([GLN25, ARG149], -0.89),\n",
       " ([ARG149, LEU23], -0.88),\n",
       " ([THR58, MET72], -0.8200000000000001),\n",
       " ([NA6833, CL6846], -0.82),\n",
       " ([LEU19, LEU79], -0.7899999999999999),\n",
       " ([ALA66, ASP69], -0.78),\n",
       " ([LEU23, VAL152], -0.77)]"
      ]
     },
     "execution_count": 15,
     "metadata": {},
     "output_type": "execute_result"
    }
   ],
   "source": [
    "# residue contact more important in frame than in trajectory (near -1)\n",
    "list(reversed(diff.residue_contacts.most_common()))[:10]\n",
    "# alternate: diff.residue_contacts.most_common()[:-10:-1] # (thanks Sander!)"
   ]
  },
  {
   "cell_type": "markdown",
   "metadata": {},
   "source": [
    "### List the atoms contacts most common within a given residue contact"
   ]
  },
  {
   "cell_type": "code",
   "execution_count": 16,
   "metadata": {
    "collapsed": false
   },
   "outputs": [
    {
     "name": "stdout",
     "output_type": "stream",
     "text": [
      "VAL81 ASN116\n"
     ]
    }
   ],
   "source": [
    "val81 = topology.residue(80)\n",
    "asn116 = topology.residue(115)\n",
    "print(val81, asn116)\n",
    "gtp201 = topology.residue(166)"
   ]
  },
  {
   "cell_type": "markdown",
   "metadata": {},
   "source": [
    "We extended the standard `.most_common()` to take an optional argument. When the argument is given, it will filter the output to only include the ones where that argument is part of the contact. For example, the following gives the residues most commonly in contact with GTP."
   ]
  },
  {
   "cell_type": "code",
   "execution_count": 18,
   "metadata": {
    "collapsed": false
   },
   "outputs": [
    {
     "name": "stdout",
     "output_type": "stream",
     "text": [
      "([VAL14, GTP201], 1.0)\n",
      "([SER145, GTP201], 1.0)\n",
      "([LYS147, GTP201], 1.0)\n",
      "([GLY13, GTP201], 1.0)\n",
      "([ALA146, GTP201], 1.0)\n",
      "([GTP201, LEU120], 1.0)\n",
      "([GTP201, GLY15], 1.0)\n",
      "([GLY12, GTP201], 1.0)\n",
      "([SER17, GTP201], 1.0)\n",
      "([LYS117, GTP201], 1.0)\n",
      "([GTP201, LYS16], 1.0)\n",
      "([ALA11, GTP201], 1.0)\n",
      "([GTP201, MG202], 1.0)\n",
      "([ALA18, GTP201], 1.0)\n",
      "([GTP201, ASP119], 1.0)\n",
      "([ASN116, GTP201], 0.99)\n",
      "([GTP201, GLU63], 0.85)\n",
      "([NA6837, GTP201], 0.42)\n",
      "([THR58, GTP201], 0.25)\n",
      "([GTP201, THR144], 0.21)\n",
      "([ASP57, GTP201], 0.19)\n"
     ]
    }
   ],
   "source": [
    "for contact in trajectory_contacts1.residue_contacts.most_common(gtp201):\n",
    "    if contact[1] > 0.1:\n",
    "        print (contact)"
   ]
  },
  {
   "cell_type": "markdown",
   "metadata": {},
   "source": [
    "We can also find all the atoms, for all residue contacts, that are in contact with a given residue, and return that sorted by frequency."
   ]
  },
  {
   "cell_type": "code",
   "execution_count": 19,
   "metadata": {
    "collapsed": false
   },
   "outputs": [
    {
     "data": {
      "text/plain": [
       "[([GTP201-O3G, GLU63-OE1], 0.77),\n",
       " ([GTP201-C5, ASN116-OD1], 0.47),\n",
       " ([GTP201-O4', LYS117-CD], 0.46),\n",
       " ([LYS117-NZ, GTP201-C5'], 0.4),\n",
       " ([GTP201-C8, ASN116-OD1], 0.37),\n",
       " ([LYS117-CG, GTP201-N9], 0.33999999999999997),\n",
       " ([GTP201-C1', LYS117-CD], 0.33),\n",
       " ([GTP201-N7, ASN116-OD1], 0.32999999999999996),\n",
       " ([LYS16-CD, GTP201-PB], 0.31),\n",
       " ([LYS117-CD, GTP201-N9], 0.28),\n",
       " ([GTP201-C2, LYS117-CA], 0.27999999999999997),\n",
       " ([GTP201-O1B, LYS16-CD], 0.26),\n",
       " ([GTP201-N3, LYS117-CB], 0.22999999999999998),\n",
       " ([GTP201-C8, LYS117-CD], 0.22999999999999998),\n",
       " ([GTP201-N1, LYS117-C], 0.21000000000000002)]"
      ]
     },
     "execution_count": 19,
     "metadata": {},
     "output_type": "execute_result"
    }
   ],
   "source": [
    "diff.most_common_atoms_for_residue(gtp201)[:15]"
   ]
  },
  {
   "cell_type": "markdown",
   "metadata": {},
   "source": [
    "Finally, we can look at which atoms are most commonly in contact within a given residue contact pair."
   ]
  },
  {
   "cell_type": "code",
   "execution_count": 21,
   "metadata": {
    "collapsed": false
   },
   "outputs": [
    {
     "data": {
      "text/plain": [
       "[]"
      ]
     },
     "execution_count": 21,
     "metadata": {},
     "output_type": "execute_result"
    }
   ],
   "source": [
    "trajectory_contacts1.most_common_atoms_for_contact([val81, asn116])"
   ]
  },
  {
   "cell_type": "markdown",
   "metadata": {},
   "source": [
    "## Changing the defaults\n",
    "\n",
    "This sections covers several options that you can modify to make the contact maps faster, and to focus on what you're most interested in.\n",
    "\n",
    "The first three options change which atoms are included as possible contacts. The query atoms are the atoms which appear on the y-axis of the plot. The haystack atoms are those along the x-axis of the plot. In general, you should choose a query that is smaller than the haystack.\n",
    "\n",
    "Both of these options take a list of atom index numbers. These are most easily created using MDTraj's atom selection language."
   ]
  },
  {
   "cell_type": "code",
   "execution_count": 22,
   "metadata": {
    "collapsed": false
   },
   "outputs": [
    {
     "name": "stdout",
     "output_type": "stream",
     "text": [
      "1408\n"
     ]
    }
   ],
   "source": [
    "# the default selection is\n",
    "default_selection = topology.select(\"not water and not symbol == 'H'\")\n",
    "print(len(default_selection))"
   ]
  },
  {
   "cell_type": "markdown",
   "metadata": {},
   "source": [
    "### Using a different query"
   ]
  },
  {
   "cell_type": "code",
   "execution_count": 23,
   "metadata": {
    "collapsed": false
   },
   "outputs": [],
   "source": [
    "switch1 = topology.select(\"protein and resSeq 32 to 38 and not symbol == 'H'\")\n",
    "switch2 = topology.select(\"protein and resSeq 59 to 67 and not symbol == 'H'\")\n",
    "gtp = topology.select(\"resname GTP and not symbol == 'H'\")\n",
    "mg = topology.select(\"element Mg\")\n",
    "cations = topology.select(\"resname NA or resname MG\")\n",
    "sodium = topology.select(\"resname NA\")"
   ]
  },
  {
   "cell_type": "code",
   "execution_count": 24,
   "metadata": {
    "collapsed": false
   },
   "outputs": [
    {
     "name": "stdout",
     "output_type": "stream",
     "text": [
      "CPU times: user 7.3 s, sys: 220 ms, total: 7.52 s\n",
      "Wall time: 1.98 s\n"
     ]
    }
   ],
   "source": [
    "%%time\n",
    "sw1_contacts = ContactFrequency(trajectory=traj[::100], query=switch1)"
   ]
  },
  {
   "cell_type": "code",
   "execution_count": 27,
   "metadata": {
    "collapsed": false
   },
   "outputs": [
    {
     "name": "stdout",
     "output_type": "stream",
     "text": [
      "Using markersize of 9 pixels.\n",
      "CPU times: user 52.2 ms, sys: 121 µs, total: 52.3 ms\n",
      "Wall time: 49 ms\n"
     ]
    },
    {
     "data": {
      "image/png": "[encoded data removed]",
      "text/plain": [
       "<matplotlib.figure.Figure at 0x7fec6776df60>"
      ]
     },
     "metadata": {},
     "output_type": "display_data"
    }
   ],
   "source": [
    "%%time\n",
    "fig, = dok2plt(sw1_contacts.residue_contacts.sparse_matrix, xmin=0, xmax = 50, ymin=0, ymax=50)"
   ]
  },
  {
   "cell_type": "markdown",
   "metadata": {},
   "source": [
    "### Using a different haystack\n",
    "\n",
    "Currently, changing the haystack has essentially no effect on the performance. However, I expect to change that in the  future (requires making some modifications to MDTraj)."
   ]
  },
  {
   "cell_type": "code",
   "execution_count": 28,
   "metadata": {
    "collapsed": false
   },
   "outputs": [
    {
     "name": "stdout",
     "output_type": "stream",
     "text": [
      "CPU times: user 7.43 s, sys: 192 ms, total: 7.62 s\n",
      "Wall time: 2.09 s\n"
     ]
    }
   ],
   "source": [
    "%%time\n",
    "cations_switch1 = ContactFrequency(trajectory=traj[::100], query=cations, haystack=switch1)"
   ]
  },
  {
   "cell_type": "code",
   "execution_count": 29,
   "metadata": {
    "collapsed": false
   },
   "outputs": [
    {
     "name": "stdout",
     "output_type": "stream",
     "text": [
      "Using markersize of 2 pixels.\n",
      "CPU times: user 53.8 ms, sys: 166 µs, total: 53.9 ms\n",
      "Wall time: 50.6 ms\n"
     ]
    },
    {
     "data": {
      "image/png": "[encoded data removed]",
      "text/plain": [
       "<matplotlib.figure.Figure at 0x7fec676d7ba8>"
      ]
     },
     "metadata": {},
     "output_type": "display_data"
    }
   ],
   "source": [
    "%%time\n",
    "fig, = dok2plt(cations_switch1.residue_contacts.sparse_matrix)"
   ]
  },
  {
   "cell_type": "markdown",
   "metadata": {},
   "source": [
    "### Changing how many neighboring residues are ignored\n",
    "\n",
    "By default, we ignore atoms from 2 residues on either side of the given residue (and in the same `chain`). This is easily changed. However, even when you say to ignore no neighbors, you still ignore the residue's interactions with itself.\n",
    "\n",
    "Note: for non-protein contact, the `chain` is often poorly defined. In this example, the GTP and the Mg are listed sequentially in residue order, and therefore they are considered \"neighbors\" and their contacts are ignored."
   ]
  },
  {
   "cell_type": "code",
   "execution_count": 30,
   "metadata": {
    "collapsed": false
   },
   "outputs": [
    {
     "name": "stdout",
     "output_type": "stream",
     "text": [
      "CPU times: user 8.62 s, sys: 316 ms, total: 8.94 s\n",
      "Wall time: 2.55 s\n"
     ]
    }
   ],
   "source": [
    "%%time\n",
    "ignore_none = ContactFrequency(trajectory=traj[::100], n_neighbors_ignored=0)"
   ]
  },
  {
   "cell_type": "code",
   "execution_count": 31,
   "metadata": {
    "collapsed": false
   },
   "outputs": [
    {
     "name": "stdout",
     "output_type": "stream",
     "text": [
      "Using markersize of 2 pixels.\n",
      "CPU times: user 109 ms, sys: 4.03 ms, total: 113 ms\n",
      "Wall time: 109 ms\n"
     ]
    },
    {
     "data": {
      "image/png": "[encoded data removed]",
      "text/plain": [
       "<matplotlib.figure.Figure at 0x7fec67e61860>"
      ]
     },
     "metadata": {},
     "output_type": "display_data"
    }
   ],
   "source": [
    "%%time\n",
    "fig, = dok2plt(ignore_none.residue_contacts.sparse_matrix)"
   ]
  },
  {
   "cell_type": "markdown",
   "metadata": {},
   "source": [
    "### Using a different cutoff\n",
    "\n",
    "The size of the cutoff has a large effect on the performance. The default is (currently) 0.45nm."
   ]
  },
  {
   "cell_type": "code",
   "execution_count": 32,
   "metadata": {
    "collapsed": false
   },
   "outputs": [
    {
     "name": "stdout",
     "output_type": "stream",
     "text": [
      "CPU times: user 33.9 s, sys: 756 ms, total: 34.7 s\n",
      "Wall time: 16.4 s\n"
     ]
    }
   ],
   "source": [
    "%%time\n",
    "large_cutoff = ContactFrequency(trajectory=traj[::100], cutoff=1.5)"
   ]
  },
  {
   "cell_type": "code",
   "execution_count": 33,
   "metadata": {
    "collapsed": false
   },
   "outputs": [
    {
     "name": "stdout",
     "output_type": "stream",
     "text": [
      "Using markersize of 2 pixels.\n",
      "CPU times: user 558 ms, sys: 53 µs, total: 558 ms\n",
      "Wall time: 555 ms\n"
     ]
    },
    {
     "data": {
      "image/png": "[encoded data removed]",
      "text/plain": [
       "<matplotlib.figure.Figure at 0x7fec6804dfd0>"
      ]
     },
     "metadata": {},
     "output_type": "display_data"
    }
   ],
   "source": [
    "%%time\n",
    "fig, = dok2plt(large_cutoff.residue_contacts.sparse_matrix)"
   ]
  },
  {
   "cell_type": "code",
   "execution_count": null,
   "metadata": {
    "collapsed": true
   },
   "outputs": [],
   "source": []
  }
 ],
 "metadata": {
  "kernelspec": {
   "display_name": "Python 3",
   "language": "python",
   "name": "python3"
  },
  "language_info": {
   "codemirror_mode": {
    "name": "ipython",
    "version": 3
   },
   "file_extension": ".py",
   "mimetype": "text/x-python",
   "name": "python",
   "nbconvert_exporter": "python",
   "pygments_lexer": "ipython3",
   "version": "3.5.1"
  }
 },
 "nbformat": 4,
 "nbformat_minor": 0
}
