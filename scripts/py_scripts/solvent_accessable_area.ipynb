{
 "cells": [
  {
   "cell_type": "code",
   "execution_count": 1,
   "metadata": {
    "collapsed": true
   },
   "outputs": [],
   "source": [
    "%matplotlib inline\n",
    "\n",
    "import mdtraj as md\n",
    "import numpy as np\n",
    "import matplotlib.pyplot as plt\n",
    "from md_distance import md_distance\n",
    "from md_distance import gen_pairs\n",
    "from refframes import refframe_switch1\n",
    "from refframes import refframe_switch2"
   ]
  },
  {
   "cell_type": "code",
   "execution_count": 2,
   "metadata": {
    "collapsed": true
   },
   "outputs": [],
   "source": [
    "source = 'vreede'\n",
    "run = 'run1'\n",
    "if source == 'vreede':\n",
    "    current_dir = '/home/sanderroet/Ras-JV/'+run+'/analysis/'\n",
    "    name = 'vreede_'+run\n",
    "elif source == 'carbon':\n",
    "    current_dir = '/home/sanderroet/carbon/kras_100ns/'+run+'/analysis/'\n",
    "    name = 'carbon_'+run\n",
    "xtc = current_dir + 'vis-md.xtc'\n",
    "pdb = current_dir + 'vis-md.pdb'"
   ]
  },
  {
   "cell_type": "code",
   "execution_count": 3,
   "metadata": {
    "collapsed": false
   },
   "outputs": [
    {
     "name": "stdout",
     "output_type": "stream",
     "text": [
      "CPU times: user 17.1 s, sys: 1.39 s, total: 18.5 s\n",
      "Wall time: 19.4 s\n"
     ]
    }
   ],
   "source": [
    "%%time\n",
    "trj = md.load(xtc, top = pdb)\n",
    "#reference = md.load(test_pdb)"
   ]
  },
  {
   "cell_type": "code",
   "execution_count": 4,
   "metadata": {
    "collapsed": false
   },
   "outputs": [
    {
     "name": "stdout",
     "output_type": "stream",
     "text": [
      "GLY60\n",
      "GLY60\n",
      "GLY60\n",
      "GLY60\n",
      "GLY60\n",
      "GLY60\n",
      "GLY60\n",
      "GLU63\n",
      "GLU63\n",
      "GLU63\n",
      "GLU63\n",
      "GLU63\n",
      "GLU63\n",
      "GLU63\n",
      "GLU63\n",
      "GLU63\n",
      "GLU63\n",
      "GLU63\n",
      "GLU63\n",
      "GLU63\n",
      "GLU63\n",
      "GLU63\n",
      "CPU times: user 573 ms, sys: 0 ns, total: 573 ms\n",
      "Wall time: 572 ms\n"
     ]
    }
   ],
   "source": [
    "%%time\n",
    "topology = trj.topology\n",
    "G60 = topology.select('protein and (resSeq 60 or resSeq 63)')\n",
    "gly60 = topology.select('protein and (resSeq 60) and not name H')\n",
    "gly12 = topology.select('protein and (resSeq 12) and not name H')\n",
    "glu63 = topology.select('protein and (resSeq 63) and not name H')\n",
    "glu62 = topology.select('protein and (resSeq 62) and not name H')\n",
    "glu37 = topology.select('protein and (resSeq 37) and not name H')\n",
    "\n",
    "D33 = topology.select('protein and resSeq 33 and element O and not name O')\n",
    "asp30 = topology.select('protein and resSeq 30')\n",
    "his27 = topology.select('protein and resSeq 27')\n",
    "GTP = topology.select('(resname GTP) and not name H')\n",
    "GTP_sugar= topology.select('resname GTP and (name =~ \"O[2-3]\\'\")')\n",
    "MG = topology.select('element Mg')\n",
    "switch1 = topology.select('protein and(resSeq 30 to 38)')# and not name H')\n",
    "switch2 = topology.select('protein and(resSeq 60 to 76)')\n",
    "for i in G60:\n",
    "    print(topology.atom(i).residue)"
   ]
  },
  {
   "cell_type": "code",
   "execution_count": 5,
   "metadata": {
    "collapsed": false
   },
   "outputs": [
    {
     "name": "stdout",
     "output_type": "stream",
     "text": [
      "22561\n",
      "2670\n"
     ]
    }
   ],
   "source": [
    "protein = topology.select('protein or resname GTP')\n",
    "new_trj = trj.atom_slice(protein)\n",
    "print(len(trj.xyz[0]))\n",
    "print(len(new_trj.xyz[0]))"
   ]
  },
  {
   "cell_type": "code",
   "execution_count": 6,
   "metadata": {
    "collapsed": false
   },
   "outputs": [
    {
     "name": "stdout",
     "output_type": "stream",
     "text": [
      "1001\n"
     ]
    }
   ],
   "source": [
    "results = md.shrake_rupley(new_trj[::10], mode='residue')\n",
    "print(len(results))"
   ]
  },
  {
   "cell_type": "code",
   "execution_count": 7,
   "metadata": {
    "collapsed": false
   },
   "outputs": [
    {
     "name": "stdout",
     "output_type": "stream",
     "text": [
      "167\n",
      "1001\n"
     ]
    }
   ],
   "source": [
    "print(len(results[0]))\n",
    "new_results=[]\n",
    "for i in results:\n",
    "    new_results.append(sum(i[59:61]))\n",
    "print(len(new_results))"
   ]
  },
  {
   "cell_type": "code",
   "execution_count": 8,
   "metadata": {
    "collapsed": false
   },
   "outputs": [
    {
     "data": {
      "image/png": "[encoded data removed]",
      "text/plain": [
       "<matplotlib.figure.Figure at 0x7f545e8f9518>"
      ]
     },
     "metadata": {},
     "output_type": "display_data"
    }
   ],
   "source": [
    "\n",
    "\n",
    "for i, e in enumerate([new_results]):\n",
    "    fig = plt.figure()\n",
    "    ax = fig.add_subplot(111)\n",
    "    y = e\n",
    "    x = range(len(e))\n",
    "\n",
    "    if i == 0:\n",
    "        lbl = 'min_[gly60-gly12]_[glu63-gtp]'\n",
    "        savename='gtp_D30_distance'\n",
    "        start, stop = refframe_switch2[name]\n",
    "    if i == 1:\n",
    "        lbl = 'glu63--GTP'\n",
    "        savename='gtp_D33_distance'\n",
    "        start, stop = refframe_switch2[name]\n",
    "    if i == 2:\n",
    "        lbl = 'D33--MG'\n",
    "        savename='D33_MG_distance'\n",
    "    ax.plot(x,y, label = lbl)\n",
    "    ax.plot([x[0],x[-1]],[1.6,1.6], c='red')\n",
    "    for i, j in enumerate(start):\n",
    "        start1 = int(j/10)\n",
    "        stop1 = int(stop[i]/10) \n",
    "        x = range(start1,stop1)\n",
    "        y = e[start1:stop1]\n",
    "        ax.plot(x,y, c='green')\n",
    "\n",
    "#    plt.ylim([0.0,2.0])\n",
    "#    ax.set_ylabel('nm')\n",
    "#    ax.set_xlabel('frame')\n",
    "    ax.set_title('switch2_'+source+'_'+run)\n",
    "    ax.legend()\n",
    "    plt.show\n",
    "fig.savefig(current_dir+'proposed_switch2.png')"
   ]
  },
  {
   "cell_type": "code",
   "execution_count": null,
   "metadata": {
    "collapsed": true
   },
   "outputs": [],
   "source": []
  }
 ],
 "metadata": {
  "kernelspec": {
   "display_name": "Python 3",
   "language": "python",
   "name": "python3"
  },
  "language_info": {
   "codemirror_mode": {
    "name": "ipython",
    "version": 3
   },
   "file_extension": ".py",
   "mimetype": "text/x-python",
   "name": "python",
   "nbconvert_exporter": "python",
   "pygments_lexer": "ipython3",
   "version": "3.5.1"
  }
 },
 "nbformat": 4,
 "nbformat_minor": 0
}
