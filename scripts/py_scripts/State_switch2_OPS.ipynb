{
 "cells": [
  {
   "cell_type": "code",
   "execution_count": 1,
   "metadata": {
    "collapsed": false
   },
   "outputs": [],
   "source": [
    "%matplotlib inline\n",
    "import matplotlib.pyplot as plt\n",
    "import mdtraj as md\n",
    "import openpathsampling as paths\n",
    "import numpy as np\n",
    "import itertools as itt\n",
    "\n",
    "\n",
    "def ops_load_trajectory(filename, top=None):\n",
    "    return paths.engines.openmm.tools.trajectory_from_mdtraj(md.load(filename, top=top))"
   ]
  },
  {
   "cell_type": "code",
   "execution_count": 2,
   "metadata": {
    "collapsed": false
   },
   "outputs": [],
   "source": [
    "source = 'trajectory'\n",
    "run = 'run2'\n",
    "if source == 'test':\n",
    "    current_dir = '/home/sanderroet/scripts/test_show/'\n",
    "if source == 'vreede':\n",
    "    current_dir = '/home/sanderroet/Ras-JV/'+run+'/analysis/'\n",
    "    name = 'vreede_'+run\n",
    "elif source == 'carbon':\n",
    "    current_dir = '/home/sanderroet/carbon/kras_100ns/'+run+'/analysis/'\n",
    "    name = 'carbon_'+run\n",
    "elif source == 'cartesius':\n",
    "    current_dir = '/home/sanderroet/cartesius/vreede_'+run+\\\n",
    "                  '_continue/analysis/'\n",
    "    name = 'vreede_'+run+'_continue'\n",
    "elif source == 'vreede_continue':\n",
    "    current_dir = '/home/sanderroet/Ras-JV/'+run+'/analysis/continue/'\n",
    "    name = 'vreede_'+run\n",
    "elif source == 'carbon_continue':\n",
    "    current_dir = '/home/sanderroet/cartesius/carbon_'+run+'_continue/analysis/'\n",
    "    name = source+'_'+run\n",
    "\n",
    "elif source == 'trajectory':\n",
    "    current_dir = '/home/sanderroet/ras-transition/'+run+'/analysis/'\n",
    "    name = source+'_'+run\n",
    "\n",
    "xtc = current_dir + 'vis-md.xtc'\n",
    "pdb = current_dir + 'vis-md.pdb'"
   ]
  },
  {
   "cell_type": "code",
   "execution_count": 3,
   "metadata": {
    "collapsed": false
   },
   "outputs": [],
   "source": [
    "run = ops_load_trajectory(xtc, top=pdb)\n",
    "topology = run.topology.md"
   ]
  },
  {
   "cell_type": "code",
   "execution_count": 4,
   "metadata": {
    "collapsed": false
   },
   "outputs": [
    {
     "name": "stdout",
     "output_type": "stream",
     "text": [
      "[2626 2627 2628 2629 2630 2631 2632 2633 2634 2635 2636 2637 2638 2639 2640\n",
      " 2641 2642 2643 2644 2645 2646 2647 2648 2649 2650 2651 2652 2653 2654 2655\n",
      " 2656 2657 2658 2659 2660 2661 2662 2663 2664 2665 2666 2667 2668 2669 2670]\n"
     ]
    }
   ],
   "source": [
    "gly60 = topology.select('protein and (resSeq 60)')                   \n",
    "gly12 = topology.select('protein and (resSeq 12)')                   \n",
    "gln61 = topology.select('protein and resSeq 61 and not backbone and not name H')\n",
    "arg68 = topology.select('protein and resSeq 68 and name O')          \n",
    "met72 = topology.select('protein and resSeq 72 and name H')          \n",
    "GTP = topology.select('((resname GTP) and not element H) or element Mg')\n",
    "GTP_COM = topology.select('resname GTP or element Mg')\n",
    "glu63 = topology.select('protein and (resSeq 63) and name CG')       \n",
    "glu62 = topology.select('protein and (resSeq 62) and name CG')       \n",
    "switch2_COM = topology.select('protein and(resSeq 61 to 66)')\n",
    "\n",
    "print (GTP_COM)"
   ]
  },
  {
   "cell_type": "code",
   "execution_count": 21,
   "metadata": {
    "collapsed": true
   },
   "outputs": [],
   "source": [
    "def min_distance(snapshot, pair):\n",
    "    import mdtraj as md\n",
    "    import itertools as itt\n",
    "    pair_list = list(itt.product(pair[0],pair[1]))\n",
    "    snapshot = paths.Trajectory(snapshot).md()\n",
    "    distance = md.compute_distances(snapshot, pair_list)\n",
    "    result = []\n",
    "    for i in distance:\n",
    "        result.append(min(i))\n",
    "    return result\n",
    "\n",
    "def COM_distance(snapshot, pair):\n",
    "    import mdtraj as md\n",
    "    trj = paths.Trajectory(snapshot).md()\n",
    "    set0_trj = trj.atom_slice(pair[0])\n",
    "    set1_trj = trj.atom_slice(pair[1])\n",
    "    set0_center = md.compute_center_of_mass(set0_trj)\n",
    "    set1_center = md.compute_center_of_mass(set1_trj)\n",
    "    distances = set0_center-set1_center\n",
    "    result = []\n",
    "    for i in distances:\n",
    "        result.append(((i[0]**2) + (i[1]**2) + (i[2]**2))**0.5)\n",
    "    return result\n",
    "\n",
    "d_gly60_gly12 = paths.CV_Function(\"d_gly60_gly12\", min_distance, pair = [gly60, gly12], cv_requires_lists = True)\n",
    "d_gln61_gly12 = paths.CV_Function(\"d_gln61_gly12\", min_distance, pair = [gln61, gly12], cv_requires_lists = True)\n",
    "d_glu62_GTP   = paths.CV_Function(\"d_glu62_GTP\"  , min_distance, pair = [glu62, GTP], cv_requires_lists = True)\n",
    "d_glu63_GTP   = paths.CV_Function(\"d_glu63_GTP\"  , min_distance, pair = [glu63, GTP], cv_requires_lists = True)\n",
    "d_arg68_met72 = paths.CV_Function(\"d_arg68_met72\", min_distance, pair = [arg68, met72], cv_requires_lists = True)\n",
    "d_COM_S2_GTP  = paths.CV_Function(\"d_COM_S2_GTP\" , COM_distance, pair = [GTP_COM, switch2_COM], cv_requires_lists = True)"
   ]
  },
  {
   "cell_type": "code",
   "execution_count": 22,
   "metadata": {
    "collapsed": false
   },
   "outputs": [
    {
     "name": "stdout",
     "output_type": "stream",
     "text": [
      "[0.6806221]\n"
     ]
    }
   ],
   "source": [
    "print min_distance(run[], [gly60, gly12])"
   ]
  },
  {
   "cell_type": "code",
   "execution_count": 7,
   "metadata": {
    "collapsed": false
   },
   "outputs": [],
   "source": [
    "state_open = (paths.CVRangeVolume(d_gly60_gly12, lambda_min=0.6, lambda_max=5.0) &\n",
    "              paths.CVRangeVolume(d_gln61_gly12, lambda_min=0.8, lambda_max=5.0) &\n",
    "              paths.CVRangeVolume(d_glu62_GTP, lambda_min=1.0, lambda_max=5.0) &\n",
    "              paths.CVRangeVolume(d_glu63_GTP, lambda_min=1.0, lambda_max=5.0) &\n",
    "              paths.CVRangeVolume(d_COM_S2_GTP, lambda_min=1.975, lambda_max=5.0)).named('Open')\n",
    "\n",
    "state_closed =((paths.CVRangeVolume(d_gly60_gly12, lambda_min=0.0, lambda_max=0.3) |\n",
    "               paths.CVRangeVolume(d_gln61_gly12, lambda_min=0.0, lambda_max=0.3) |\n",
    "               paths.CVRangeVolume(d_glu62_GTP, lambda_min=0.0, lambda_max=0.65) |\n",
    "               paths.CVRangeVolume(d_glu63_GTP, lambda_min=0.0, lambda_max=0.65)) &\n",
    "               paths.CVRangeVolume(d_COM_S2_GTP, lambda_min=0.0, lambda_max=1.6)).named('Closed')\n"
   ]
  },
  {
   "cell_type": "code",
   "execution_count": 8,
   "metadata": {
    "collapsed": false
   },
   "outputs": [
    {
     "name": "stdout",
     "output_type": "stream",
     "text": [
      "CPU times: user 2.89 s, sys: 5.73 s, total: 8.62 s\n",
      "Wall time: 8.64 s\n"
     ]
    },
    {
     "data": {
      "image/png": "[encoded data removed]",
      "text/plain": [
       "<matplotlib.figure.Figure at 0x7fb5e11b4990>"
      ]
     },
     "metadata": {},
     "output_type": "display_data"
    }
   ],
   "source": [
    "%%time\n",
    "variable_list = [\n",
    "                 d_gly60_gly12,\n",
    "                 d_gln61_gly12,\n",
    "                 d_glu62_GTP,\n",
    "                 d_glu63_GTP,\n",
    "                 d_arg68_met72,\n",
    "                 d_COM_S2_GTP,\n",
    "                ]\n",
    "for i, e in enumerate(variable_list):\n",
    "    data = e(run)\n",
    "    if e.name == 'd_COM_S2_GTP':\n",
    "        fig = plt.figure()\n",
    "        (plot_line,) = plt.plot(data, label=e.name)\n",
    "        plt.xlabel('frame number')\n",
    "        plt.ylabel('distance (nm)')\n",
    "        plt.legend(handles=[plot_line]);\n"
   ]
  },
  {
   "cell_type": "code",
   "execution_count": 9,
   "metadata": {
    "collapsed": false
   },
   "outputs": [
    {
     "name": "stdout",
     "output_type": "stream",
     "text": [
      "5712\n",
      "5714\n",
      "5723\n",
      "Frames in open state:  47/6183\n",
      "Frames in closed state:  3/6183\n",
      "Frames not in a state:  6133/6183\n",
      "Frames in both states:  0/6183\n",
      "CPU times: user 2.04 s, sys: 38.5 ms, total: 2.08 s\n",
      "Wall time: 2.04 s\n"
     ]
    }
   ],
   "source": [
    "%%time\n",
    "n_frames_open = 0\n",
    "frames_open = [frame for frame in run if state_open(frame)]\n",
    "n_frames_closed = 0\n",
    "frames_closed = [frame for frame in run if state_closed(frame)]\n",
    "n_frames_out = 0\n",
    "n_frames_both = 0\n",
    "i = 0\n",
    "for s in run:\n",
    "    s_open = False\n",
    "    s_closed = False\n",
    "    if state_open(s) == True:\n",
    "        s_open = True\n",
    "    if state_closed(s) == True:\n",
    "        s_closed = True\n",
    "        print(i)\n",
    "    if s_open == True and s_closed == False:\n",
    "        n_frames_open += 1\n",
    "    elif s_open == False and s_closed == True:\n",
    "        n_frames_closed += 1\n",
    "    elif s_open == False and s_closed == False:\n",
    "        n_frames_out += 1\n",
    "    elif s_open == True and s_closed == True:\n",
    "        n_frames_both += 1\n",
    "    i += 1\n",
    "n_frames = len(run)\n",
    "print \"Frames in open state:  \" + str(n_frames_open) + \"/\" + str(n_frames)\n",
    "print \"Frames in closed state:  \" + str(n_frames_closed) + \"/\" + str(n_frames)\n",
    "print \"Frames not in a state:  \" + str(n_frames_out) + \"/\" + str(n_frames)\n",
    "print \"Frames in both states:  \" + str(n_frames_both) + \"/\" + str(n_frames)"
   ]
  },
  {
   "cell_type": "code",
   "execution_count": 24,
   "metadata": {
    "collapsed": false
   },
   "outputs": [
    {
     "data": {
      "image/png": "[encoded data removed]",
      "text/plain": [
       "<matplotlib.figure.Figure at 0x7fb5e07b1fd0>"
      ]
     },
     "metadata": {},
     "output_type": "display_data"
    }
   ],
   "source": [
    "for e in [d_COM_S2_GTP]:\n",
    "    fig =plt.figure()\n",
    "    plt.plot(e(run))\n",
    "    input_index = [run.index(s) for s in frames_open]\n",
    "    plt.plot(input_index, e(run[input_index]), 'ro')\n",
    "    input_index = [run.index(s) for s in frames_closed]\n",
    "    plt.plot(input_index, e(run[input_index]), 'go')\n",
    "    plt.xlim([5600,6000])"
   ]
  },
  {
   "cell_type": "code",
   "execution_count": 11,
   "metadata": {
    "collapsed": false
   },
   "outputs": [
    {
     "name": "stdout",
     "output_type": "stream",
     "text": [
      "CPU times: user 50.3 s, sys: 188 ms, total: 50.5 s\n",
      "Wall time: 50.3 s\n"
     ]
    }
   ],
   "source": [
    "%%time\n",
    "c_o = paths.TISTransition(stateA=state_closed,\n",
    "                          stateB=state_open,\n",
    "                          interfaces=[state_closed],\n",
    "                          orderparameter=d_COM_S2_GTP)\n",
    "analyzer = paths.SingleTrajectoryAnalysis(c_o,dt = 10).analyze(run)"
   ]
  },
  {
   "cell_type": "code",
   "execution_count": 12,
   "metadata": {
    "collapsed": false
   },
   "outputs": [
    {
     "ename": "KeyboardInterrupt",
     "evalue": "",
     "output_type": "error",
     "traceback": [
      "\u001b[1;31m---------------------------------------------------------------------------\u001b[0m",
      "\u001b[1;31mKeyboardInterrupt\u001b[0m                         Traceback (most recent call last)",
      "\u001b[1;32m<ipython-input-12-f16ebc8219f1>\u001b[0m in \u001b[0;36m<module>\u001b[1;34m()\u001b[0m\n\u001b[1;32m----> 1\u001b[1;33m \u001b[0mget_ipython\u001b[0m\u001b[1;33m(\u001b[0m\u001b[1;33m)\u001b[0m\u001b[1;33m.\u001b[0m\u001b[0mrun_cell_magic\u001b[0m\u001b[1;33m(\u001b[0m\u001b[1;34mu'time'\u001b[0m\u001b[1;33m,\u001b[0m \u001b[1;34mu''\u001b[0m\u001b[1;33m,\u001b[0m \u001b[1;34mu'flux_out_closed = analyzer.analyze_flux(trajectory = run,\\n                                        state = state_closed,\\n                                        interface = state_closed)[\\'out\\']\\nflux_out_open = analyzer.analyze_flux(trajectory = run,\\n                                        state = state_open,\\n                                        interface = state_open)[\\'out\\']\\nflux_in_closed = analyzer.analyze_flux(trajectory = run,\\n                                        state = state_closed,\\n                                        interface = state_closed)[\\'in\\']\\n\\nflux_in_open = analyzer.analyze_flux(trajectory = run,\\n                                        state = state_open,\\n                                        interface = state_open)[\\'in\\']\\nprint \"flux events out of the closed interface: \"+str(len(flux_out_closed))+\"\\\\n\"\\n\\nprint \"flux events out of the open interface: \"+str(len(flux_out_open))+\"\\\\n\"'\u001b[0m\u001b[1;33m)\u001b[0m\u001b[1;33m\u001b[0m\u001b[0m\n\u001b[0m",
      "\u001b[1;32m/home/sanderroet/anaconda3/envs/python2/lib/python2.7/site-packages/IPython/core/interactiveshell.pyc\u001b[0m in \u001b[0;36mrun_cell_magic\u001b[1;34m(self, magic_name, line, cell)\u001b[0m\n\u001b[0;32m   2118\u001b[0m             \u001b[0mmagic_arg_s\u001b[0m \u001b[1;33m=\u001b[0m \u001b[0mself\u001b[0m\u001b[1;33m.\u001b[0m\u001b[0mvar_expand\u001b[0m\u001b[1;33m(\u001b[0m\u001b[0mline\u001b[0m\u001b[1;33m,\u001b[0m \u001b[0mstack_depth\u001b[0m\u001b[1;33m)\u001b[0m\u001b[1;33m\u001b[0m\u001b[0m\n\u001b[0;32m   2119\u001b[0m             \u001b[1;32mwith\u001b[0m \u001b[0mself\u001b[0m\u001b[1;33m.\u001b[0m\u001b[0mbuiltin_trap\u001b[0m\u001b[1;33m:\u001b[0m\u001b[1;33m\u001b[0m\u001b[0m\n\u001b[1;32m-> 2120\u001b[1;33m                 \u001b[0mresult\u001b[0m \u001b[1;33m=\u001b[0m \u001b[0mfn\u001b[0m\u001b[1;33m(\u001b[0m\u001b[0mmagic_arg_s\u001b[0m\u001b[1;33m,\u001b[0m \u001b[0mcell\u001b[0m\u001b[1;33m)\u001b[0m\u001b[1;33m\u001b[0m\u001b[0m\n\u001b[0m\u001b[0;32m   2121\u001b[0m             \u001b[1;32mreturn\u001b[0m \u001b[0mresult\u001b[0m\u001b[1;33m\u001b[0m\u001b[0m\n\u001b[0;32m   2122\u001b[0m \u001b[1;33m\u001b[0m\u001b[0m\n",
      "\u001b[1;32m<decorator-gen-60>\u001b[0m in \u001b[0;36mtime\u001b[1;34m(self, line, cell, local_ns)\u001b[0m\n",
      "\u001b[1;32m/home/sanderroet/anaconda3/envs/python2/lib/python2.7/site-packages/IPython/core/magic.pyc\u001b[0m in \u001b[0;36m<lambda>\u001b[1;34m(f, *a, **k)\u001b[0m\n\u001b[0;32m    191\u001b[0m     \u001b[1;31m# but it's overkill for just that one bit of state.\u001b[0m\u001b[1;33m\u001b[0m\u001b[1;33m\u001b[0m\u001b[0m\n\u001b[0;32m    192\u001b[0m     \u001b[1;32mdef\u001b[0m \u001b[0mmagic_deco\u001b[0m\u001b[1;33m(\u001b[0m\u001b[0marg\u001b[0m\u001b[1;33m)\u001b[0m\u001b[1;33m:\u001b[0m\u001b[1;33m\u001b[0m\u001b[0m\n\u001b[1;32m--> 193\u001b[1;33m         \u001b[0mcall\u001b[0m \u001b[1;33m=\u001b[0m \u001b[1;32mlambda\u001b[0m \u001b[0mf\u001b[0m\u001b[1;33m,\u001b[0m \u001b[1;33m*\u001b[0m\u001b[0ma\u001b[0m\u001b[1;33m,\u001b[0m \u001b[1;33m**\u001b[0m\u001b[0mk\u001b[0m\u001b[1;33m:\u001b[0m \u001b[0mf\u001b[0m\u001b[1;33m(\u001b[0m\u001b[1;33m*\u001b[0m\u001b[0ma\u001b[0m\u001b[1;33m,\u001b[0m \u001b[1;33m**\u001b[0m\u001b[0mk\u001b[0m\u001b[1;33m)\u001b[0m\u001b[1;33m\u001b[0m\u001b[0m\n\u001b[0m\u001b[0;32m    194\u001b[0m \u001b[1;33m\u001b[0m\u001b[0m\n\u001b[0;32m    195\u001b[0m         \u001b[1;32mif\u001b[0m \u001b[0mcallable\u001b[0m\u001b[1;33m(\u001b[0m\u001b[0marg\u001b[0m\u001b[1;33m)\u001b[0m\u001b[1;33m:\u001b[0m\u001b[1;33m\u001b[0m\u001b[0m\n",
      "\u001b[1;32m/home/sanderroet/anaconda3/envs/python2/lib/python2.7/site-packages/IPython/core/magics/execution.pyc\u001b[0m in \u001b[0;36mtime\u001b[1;34m(self, line, cell, local_ns)\u001b[0m\n\u001b[0;32m   1175\u001b[0m         \u001b[1;32melse\u001b[0m\u001b[1;33m:\u001b[0m\u001b[1;33m\u001b[0m\u001b[0m\n\u001b[0;32m   1176\u001b[0m             \u001b[0mst\u001b[0m \u001b[1;33m=\u001b[0m \u001b[0mclock2\u001b[0m\u001b[1;33m(\u001b[0m\u001b[1;33m)\u001b[0m\u001b[1;33m\u001b[0m\u001b[0m\n\u001b[1;32m-> 1177\u001b[1;33m             \u001b[1;32mexec\u001b[0m\u001b[1;33m(\u001b[0m\u001b[0mcode\u001b[0m\u001b[1;33m,\u001b[0m \u001b[0mglob\u001b[0m\u001b[1;33m,\u001b[0m \u001b[0mlocal_ns\u001b[0m\u001b[1;33m)\u001b[0m\u001b[1;33m\u001b[0m\u001b[0m\n\u001b[0m\u001b[0;32m   1178\u001b[0m             \u001b[0mend\u001b[0m \u001b[1;33m=\u001b[0m \u001b[0mclock2\u001b[0m\u001b[1;33m(\u001b[0m\u001b[1;33m)\u001b[0m\u001b[1;33m\u001b[0m\u001b[0m\n\u001b[0;32m   1179\u001b[0m             \u001b[0mout\u001b[0m \u001b[1;33m=\u001b[0m \u001b[0mNone\u001b[0m\u001b[1;33m\u001b[0m\u001b[0m\n",
      "\u001b[1;32m<timed exec>\u001b[0m in \u001b[0;36m<module>\u001b[1;34m()\u001b[0m\n",
      "\u001b[1;32m/home/sanderroet/github_files/OPS/openpathsampling/openpathsampling/analysis/single_trajectory_analysis.pyc\u001b[0m in \u001b[0;36manalyze_flux\u001b[1;34m(self, trajectory, state, interface)\u001b[0m\n\u001b[0;32m    324\u001b[0m             \u001b[0mto_vol\u001b[0m\u001b[1;33m=\u001b[0m\u001b[1;33m~\u001b[0m\u001b[0minterface\u001b[0m\u001b[1;33m,\u001b[0m\u001b[1;33m\u001b[0m\u001b[0m\n\u001b[0;32m    325\u001b[0m             \u001b[0mforbidden\u001b[0m\u001b[1;33m=\u001b[0m\u001b[0mother\u001b[0m\u001b[1;33m,\u001b[0m\u001b[1;33m\u001b[0m\u001b[0m\n\u001b[1;32m--> 326\u001b[1;33m             \u001b[0mpadding\u001b[0m\u001b[1;33m=\u001b[0m\u001b[1;33m[\u001b[0m\u001b[0mNone\u001b[0m\u001b[1;33m,\u001b[0m \u001b[1;33m-\u001b[0m\u001b[1;36m1\u001b[0m\u001b[1;33m]\u001b[0m\u001b[1;33m\u001b[0m\u001b[0m\n\u001b[0m\u001b[0;32m    327\u001b[0m         )\n\u001b[0;32m    328\u001b[0m         \u001b[0min_container\u001b[0m \u001b[1;33m=\u001b[0m \u001b[0mTrajectorySegmentContainer\u001b[0m\u001b[1;33m(\u001b[0m\u001b[0min_segments\u001b[0m\u001b[1;33m,\u001b[0m \u001b[0mself\u001b[0m\u001b[1;33m.\u001b[0m\u001b[0mdt\u001b[0m\u001b[1;33m)\u001b[0m\u001b[1;33m\u001b[0m\u001b[0m\n",
      "\u001b[1;32m/home/sanderroet/github_files/OPS/openpathsampling/openpathsampling/analysis/single_trajectory_analysis.pyc\u001b[0m in \u001b[0;36mget_lifetime_segments\u001b[1;34m(trajectory, from_vol, to_vol, forbidden, padding)\u001b[0m\n\u001b[0;32m    227\u001b[0m             \u001b[0mpaths\u001b[0m\u001b[1;33m.\u001b[0m\u001b[0mLengthEnsemble\u001b[0m\u001b[1;33m(\u001b[0m\u001b[1;36m1\u001b[0m\u001b[1;33m)\u001b[0m \u001b[1;33m&\u001b[0m \u001b[0mpaths\u001b[0m\u001b[1;33m.\u001b[0m\u001b[0mAllInXEnsemble\u001b[0m\u001b[1;33m(\u001b[0m\u001b[0mto_vol\u001b[0m\u001b[1;33m)\u001b[0m\u001b[1;33m\u001b[0m\u001b[0m\n\u001b[0;32m    228\u001b[0m         ])\n\u001b[1;32m--> 229\u001b[1;33m         \u001b[0mBAB_split\u001b[0m \u001b[1;33m=\u001b[0m \u001b[0mensemble_BAB\u001b[0m\u001b[1;33m.\u001b[0m\u001b[0msplit\u001b[0m\u001b[1;33m(\u001b[0m\u001b[0mtrajectory\u001b[0m\u001b[1;33m)\u001b[0m\u001b[1;33m\u001b[0m\u001b[0m\n\u001b[0m\u001b[0;32m    230\u001b[0m         \u001b[0mAB_split\u001b[0m \u001b[1;33m=\u001b[0m \u001b[1;33m[\u001b[0m\u001b[0mensemble_AB\u001b[0m\u001b[1;33m.\u001b[0m\u001b[0msplit\u001b[0m\u001b[1;33m(\u001b[0m\u001b[0mpart\u001b[0m\u001b[1;33m)\u001b[0m\u001b[1;33m[\u001b[0m\u001b[1;36m0\u001b[0m\u001b[1;33m]\u001b[0m \u001b[1;32mfor\u001b[0m \u001b[0mpart\u001b[0m \u001b[1;32min\u001b[0m \u001b[0mBAB_split\u001b[0m\u001b[1;33m]\u001b[0m\u001b[1;33m\u001b[0m\u001b[0m\n\u001b[0;32m    231\u001b[0m         \u001b[1;32mreturn\u001b[0m \u001b[1;33m[\u001b[0m\u001b[0msubtraj\u001b[0m\u001b[1;33m[\u001b[0m\u001b[0mpadding\u001b[0m\u001b[1;33m[\u001b[0m\u001b[1;36m0\u001b[0m\u001b[1;33m]\u001b[0m\u001b[1;33m:\u001b[0m\u001b[0mpadding\u001b[0m\u001b[1;33m[\u001b[0m\u001b[1;36m1\u001b[0m\u001b[1;33m]\u001b[0m\u001b[1;33m]\u001b[0m \u001b[1;32mfor\u001b[0m \u001b[0msubtraj\u001b[0m \u001b[1;32min\u001b[0m \u001b[0mAB_split\u001b[0m\u001b[1;33m]\u001b[0m\u001b[1;33m\u001b[0m\u001b[0m\n",
      "\u001b[1;32m/home/sanderroet/github_files/OPS/openpathsampling/openpathsampling/ensemble.pyc\u001b[0m in \u001b[0;36msplit\u001b[1;34m(self, trajectory, max_length, min_length, overlap, reverse, n_results)\u001b[0m\n\u001b[0;32m    569\u001b[0m         \u001b[1;31m# except AttributeError:\u001b[0m\u001b[1;33m\u001b[0m\u001b[1;33m\u001b[0m\u001b[0m\n\u001b[0;32m    570\u001b[0m         indices = self.find_valid_slices(trajectory, max_length,\n\u001b[1;32m--> 571\u001b[1;33m                                          min_length, overlap, reverse, n_results)\n\u001b[0m\u001b[0;32m    572\u001b[0m \u001b[1;33m\u001b[0m\u001b[0m\n\u001b[0;32m    573\u001b[0m         \u001b[1;32mreturn\u001b[0m \u001b[1;33m[\u001b[0m\u001b[0mtrajectory\u001b[0m\u001b[1;33m[\u001b[0m\u001b[0mpart\u001b[0m\u001b[1;33m]\u001b[0m \u001b[1;32mfor\u001b[0m \u001b[0mpart\u001b[0m \u001b[1;32min\u001b[0m \u001b[0mindices\u001b[0m\u001b[1;33m]\u001b[0m\u001b[1;33m\u001b[0m\u001b[0m\n",
      "\u001b[1;32m/home/sanderroet/github_files/OPS/openpathsampling/openpathsampling/ensemble.pyc\u001b[0m in \u001b[0;36mfind_valid_slices\u001b[1;34m(self, trajectory, max_length, min_length, overlap, reverse, n_results)\u001b[0m\n\u001b[0;32m    421\u001b[0m                             \u001b[1;31m# in already existing ones\u001b[0m\u001b[1;33m\u001b[0m\u001b[1;33m\u001b[0m\u001b[0m\n\u001b[0;32m    422\u001b[0m                             \u001b[0mstart\u001b[0m \u001b[1;33m=\u001b[0m \u001b[0mlength\u001b[0m\u001b[1;33m\u001b[0m\u001b[0m\n\u001b[1;32m--> 423\u001b[1;33m                     \u001b[1;32melif\u001b[0m \u001b[0mend\u001b[0m \u001b[1;33m-\u001b[0m \u001b[0mstart\u001b[0m \u001b[1;33m>=\u001b[0m \u001b[0mmin_length\u001b[0m \u001b[1;33m+\u001b[0m \u001b[1;36m1\u001b[0m \u001b[1;32mand\u001b[0m \u001b[0mself\u001b[0m\u001b[1;33m(\u001b[0m\u001b[0mtt\u001b[0m\u001b[1;33m[\u001b[0m\u001b[1;36m0\u001b[0m\u001b[1;33m:\u001b[0m\u001b[0mlen\u001b[0m\u001b[1;33m(\u001b[0m\u001b[0mtt\u001b[0m\u001b[1;33m)\u001b[0m \u001b[1;33m-\u001b[0m \u001b[1;36m1\u001b[0m\u001b[1;33m]\u001b[0m\u001b[1;33m,\u001b[0m \u001b[0mtrusted\u001b[0m\u001b[1;33m=\u001b[0m\u001b[0mFalse\u001b[0m\u001b[1;33m)\u001b[0m\u001b[1;33m:\u001b[0m\u001b[1;33m\u001b[0m\u001b[0m\n\u001b[0m\u001b[0;32m    424\u001b[0m                         \u001b[0mensemble_list\u001b[0m\u001b[1;33m.\u001b[0m\u001b[0mappend\u001b[0m\u001b[1;33m(\u001b[0m\u001b[0mslice\u001b[0m\u001b[1;33m(\u001b[0m\u001b[0mstart\u001b[0m\u001b[1;33m,\u001b[0m \u001b[0mend\u001b[0m \u001b[1;33m-\u001b[0m \u001b[1;36m1\u001b[0m\u001b[1;33m)\u001b[0m\u001b[1;33m)\u001b[0m\u001b[1;33m\u001b[0m\u001b[0m\n\u001b[0;32m    425\u001b[0m                         \u001b[0mpad\u001b[0m \u001b[1;33m=\u001b[0m \u001b[0mmin\u001b[0m\u001b[1;33m(\u001b[0m\u001b[0moverlap\u001b[0m \u001b[1;33m+\u001b[0m \u001b[1;36m1\u001b[0m\u001b[1;33m,\u001b[0m \u001b[0mend\u001b[0m \u001b[1;33m-\u001b[0m \u001b[0mstart\u001b[0m \u001b[1;33m-\u001b[0m \u001b[1;36m2\u001b[0m\u001b[1;33m)\u001b[0m\u001b[1;33m\u001b[0m\u001b[0m\n",
      "\u001b[1;32m/home/sanderroet/github_files/OPS/openpathsampling/openpathsampling/ensemble.pyc\u001b[0m in \u001b[0;36m__call__\u001b[1;34m(self, trajectory, trusted)\u001b[0m\n\u001b[0;32m    827\u001b[0m                 \u001b[0mtrajectory\u001b[0m\u001b[1;33m=\u001b[0m\u001b[0mtrajectory\u001b[0m\u001b[1;33m,\u001b[0m\u001b[1;33m\u001b[0m\u001b[0m\n\u001b[0;32m    828\u001b[0m                 \u001b[0mtrusted\u001b[0m\u001b[1;33m=\u001b[0m\u001b[0mtrusted\u001b[0m\u001b[1;33m,\u001b[0m\u001b[1;33m\u001b[0m\u001b[0m\n\u001b[1;32m--> 829\u001b[1;33m                 \u001b[0mfname\u001b[0m\u001b[1;33m=\u001b[0m\u001b[1;34m\"__call__\"\u001b[0m\u001b[1;33m\u001b[0m\u001b[0m\n\u001b[0m\u001b[0;32m    830\u001b[0m             )\n\u001b[0;32m    831\u001b[0m         \u001b[1;32melse\u001b[0m\u001b[1;33m:\u001b[0m\u001b[1;33m\u001b[0m\u001b[0m\n",
      "\u001b[1;32m/home/sanderroet/github_files/OPS/openpathsampling/openpathsampling/ensemble.pyc\u001b[0m in \u001b[0;36m_generalized_short_circuit\u001b[1;34m(self, combo, f1, f2, trajectory, trusted, fname)\u001b[0m\n\u001b[0;32m    795\u001b[0m         \"\"\"\n\u001b[0;32m    796\u001b[0m         \u001b[0mlogger\u001b[0m\u001b[1;33m.\u001b[0m\u001b[0mdebug\u001b[0m\u001b[1;33m(\u001b[0m\u001b[1;34m\"Combination is \"\u001b[0m \u001b[1;33m+\u001b[0m \u001b[0mself\u001b[0m\u001b[1;33m.\u001b[0m\u001b[0m__class__\u001b[0m\u001b[1;33m.\u001b[0m\u001b[0m__name__\u001b[0m\u001b[1;33m)\u001b[0m\u001b[1;33m\u001b[0m\u001b[0m\n\u001b[1;32m--> 797\u001b[1;33m         \u001b[0ma\u001b[0m \u001b[1;33m=\u001b[0m \u001b[0mf1\u001b[0m\u001b[1;33m(\u001b[0m\u001b[0mtrajectory\u001b[0m\u001b[1;33m,\u001b[0m \u001b[0mtrusted\u001b[0m\u001b[1;33m)\u001b[0m\u001b[1;33m\u001b[0m\u001b[0m\n\u001b[0m\u001b[0;32m    798\u001b[0m         \u001b[1;32mif\u001b[0m \u001b[0mlogger\u001b[0m\u001b[1;33m.\u001b[0m\u001b[0misEnabledFor\u001b[0m\u001b[1;33m(\u001b[0m\u001b[0mlogging\u001b[0m\u001b[1;33m.\u001b[0m\u001b[0mDEBUG\u001b[0m\u001b[1;33m)\u001b[0m\u001b[1;33m:\u001b[0m  \u001b[1;31m# pragma: no cover\u001b[0m\u001b[1;33m\u001b[0m\u001b[0m\n\u001b[0;32m    799\u001b[0m             logger.debug(\"Combination.\" + fname + \": \" +\n",
      "\u001b[1;32m/home/sanderroet/github_files/OPS/openpathsampling/openpathsampling/ensemble.pyc\u001b[0m in \u001b[0;36m__call__\u001b[1;34m(self, trajectory, trusted)\u001b[0m\n\u001b[0;32m   1103\u001b[0m     \u001b[1;32mdef\u001b[0m \u001b[0m__call__\u001b[0m\u001b[1;33m(\u001b[0m\u001b[0mself\u001b[0m\u001b[1;33m,\u001b[0m \u001b[0mtrajectory\u001b[0m\u001b[1;33m,\u001b[0m \u001b[0mtrusted\u001b[0m\u001b[1;33m=\u001b[0m\u001b[0mNone\u001b[0m\u001b[1;33m)\u001b[0m\u001b[1;33m:\u001b[0m\u001b[1;33m\u001b[0m\u001b[0m\n\u001b[0;32m   1104\u001b[0m         \u001b[0mlogger\u001b[0m\u001b[1;33m.\u001b[0m\u001b[0mdebug\u001b[0m\u001b[1;33m(\u001b[0m\u001b[1;34m\"Looking for transitions in trajectory \"\u001b[0m \u001b[1;33m+\u001b[0m \u001b[0mstr\u001b[0m\u001b[1;33m(\u001b[0m\u001b[0mtrajectory\u001b[0m\u001b[1;33m)\u001b[0m\u001b[1;33m)\u001b[0m\u001b[1;33m\u001b[0m\u001b[0m\n\u001b[1;32m-> 1105\u001b[1;33m         \u001b[0mtransitions\u001b[0m \u001b[1;33m=\u001b[0m \u001b[0mself\u001b[0m\u001b[1;33m.\u001b[0m\u001b[0mtransition_frames\u001b[0m\u001b[1;33m(\u001b[0m\u001b[0mtrajectory\u001b[0m\u001b[1;33m,\u001b[0m \u001b[0mtrusted\u001b[0m\u001b[1;33m)\u001b[0m\u001b[1;33m\u001b[0m\u001b[0m\n\u001b[0m\u001b[0;32m   1106\u001b[0m         \u001b[0mlogger\u001b[0m\u001b[1;33m.\u001b[0m\u001b[0mdebug\u001b[0m\u001b[1;33m(\u001b[0m\u001b[1;34m\"Found transitions: \"\u001b[0m \u001b[1;33m+\u001b[0m \u001b[0mstr\u001b[0m\u001b[1;33m(\u001b[0m\u001b[0mtransitions\u001b[0m\u001b[1;33m)\u001b[0m\u001b[1;33m)\u001b[0m\u001b[1;33m\u001b[0m\u001b[0m\n\u001b[0;32m   1107\u001b[0m         \u001b[1;31m# if we don't have the right number of transitions, or if the last\u001b[0m\u001b[1;33m\u001b[0m\u001b[1;33m\u001b[0m\u001b[0m\n",
      "\u001b[1;32m/home/sanderroet/github_files/OPS/openpathsampling/openpathsampling/ensemble.pyc\u001b[0m in \u001b[0;36mtransition_frames\u001b[1;34m(self, trajectory, trusted)\u001b[0m\n\u001b[0;32m   1074\u001b[0m             \u001b[1;32mif\u001b[0m \u001b[0mens_num\u001b[0m \u001b[1;33m<=\u001b[0m \u001b[0mfinal_ens\u001b[0m\u001b[1;33m:\u001b[0m\u001b[1;33m\u001b[0m\u001b[0m\n\u001b[0;32m   1075\u001b[0m                 subtraj_final = self._find_subtraj_final(trajectory, \n\u001b[1;32m-> 1076\u001b[1;33m                                                          subtraj_first, ens_num)\n\u001b[0m\u001b[0;32m   1077\u001b[0m             \u001b[1;32melse\u001b[0m\u001b[1;33m:\u001b[0m\u001b[1;33m\u001b[0m\u001b[0m\n\u001b[0;32m   1078\u001b[0m                 \u001b[1;32mreturn\u001b[0m \u001b[0mtransitions\u001b[0m\u001b[1;33m\u001b[0m\u001b[0m\n",
      "\u001b[1;32m/home/sanderroet/github_files/OPS/openpathsampling/openpathsampling/ensemble.pyc\u001b[0m in \u001b[0;36m_find_subtraj_final\u001b[1;34m(self, traj, subtraj_first, ens_num, last_checked)\u001b[0m\n\u001b[0;32m   1157\u001b[0m         \u001b[1;31m#logger.debug(\"Call    \" + str(ens(subtraj, trusted=True)))\u001b[0m\u001b[1;33m\u001b[0m\u001b[1;33m\u001b[0m\u001b[0m\n\u001b[0;32m   1158\u001b[0m         while ( (ens.can_append(subtraj, trusted=True) or \n\u001b[1;32m-> 1159\u001b[1;33m                  \u001b[0mens\u001b[0m\u001b[1;33m(\u001b[0m\u001b[0msubtraj\u001b[0m\u001b[1;33m,\u001b[0m \u001b[0mtrusted\u001b[0m\u001b[1;33m=\u001b[0m\u001b[0mTrue\u001b[0m\u001b[1;33m)\u001b[0m\u001b[1;33m\u001b[0m\u001b[0m\n\u001b[0m\u001b[0;32m   1160\u001b[0m                 ) and subtraj_final < traj_final):\n\u001b[0;32m   1161\u001b[0m             \u001b[0msubtraj_final\u001b[0m \u001b[1;33m+=\u001b[0m \u001b[1;36m1\u001b[0m\u001b[1;33m\u001b[0m\u001b[0m\n",
      "\u001b[1;32m/home/sanderroet/github_files/OPS/openpathsampling/openpathsampling/ensemble.pyc\u001b[0m in \u001b[0;36m__call__\u001b[1;34m(self, trajectory, trusted)\u001b[0m\n\u001b[0;32m    827\u001b[0m                 \u001b[0mtrajectory\u001b[0m\u001b[1;33m=\u001b[0m\u001b[0mtrajectory\u001b[0m\u001b[1;33m,\u001b[0m\u001b[1;33m\u001b[0m\u001b[0m\n\u001b[0;32m    828\u001b[0m                 \u001b[0mtrusted\u001b[0m\u001b[1;33m=\u001b[0m\u001b[0mtrusted\u001b[0m\u001b[1;33m,\u001b[0m\u001b[1;33m\u001b[0m\u001b[0m\n\u001b[1;32m--> 829\u001b[1;33m                 \u001b[0mfname\u001b[0m\u001b[1;33m=\u001b[0m\u001b[1;34m\"__call__\"\u001b[0m\u001b[1;33m\u001b[0m\u001b[0m\n\u001b[0m\u001b[0;32m    830\u001b[0m             )\n\u001b[0;32m    831\u001b[0m         \u001b[1;32melse\u001b[0m\u001b[1;33m:\u001b[0m\u001b[1;33m\u001b[0m\u001b[0m\n",
      "\u001b[1;32m/home/sanderroet/github_files/OPS/openpathsampling/openpathsampling/ensemble.pyc\u001b[0m in \u001b[0;36m_generalized_short_circuit\u001b[1;34m(self, combo, f1, f2, trajectory, trusted, fname)\u001b[0m\n\u001b[0;32m    813\u001b[0m             \u001b[1;32mreturn\u001b[0m \u001b[0mres_true\u001b[0m\u001b[1;33m\u001b[0m\u001b[0m\n\u001b[0;32m    814\u001b[0m         \u001b[1;32melse\u001b[0m\u001b[1;33m:\u001b[0m\u001b[1;33m\u001b[0m\u001b[0m\n\u001b[1;32m--> 815\u001b[1;33m             \u001b[0mb\u001b[0m \u001b[1;33m=\u001b[0m \u001b[0mf2\u001b[0m\u001b[1;33m(\u001b[0m\u001b[0mtrajectory\u001b[0m\u001b[1;33m,\u001b[0m \u001b[0mtrusted\u001b[0m\u001b[1;33m)\u001b[0m\u001b[1;33m\u001b[0m\u001b[0m\n\u001b[0m\u001b[0;32m    816\u001b[0m             \u001b[1;31m# logger.debug(\"Needs test:\" + str(a) + \" \" + str(self.fnc) +\u001b[0m\u001b[1;33m\u001b[0m\u001b[1;33m\u001b[0m\u001b[0m\n\u001b[0;32m    817\u001b[0m                          \u001b[1;31m# str(b) + str(self.fnc(a,b)))\u001b[0m\u001b[1;33m\u001b[0m\u001b[1;33m\u001b[0m\u001b[0m\n",
      "\u001b[1;32m/home/sanderroet/github_files/OPS/openpathsampling/openpathsampling/ensemble.pyc\u001b[0m in \u001b[0;36m__call__\u001b[1;34m(self, trajectory, trusted)\u001b[0m\n\u001b[0;32m   1683\u001b[0m         \u001b[1;31m# speed-up in sequential ensemble's checking phase. ~~~DWHS\u001b[0m\u001b[1;33m\u001b[0m\u001b[1;33m\u001b[0m\u001b[0m\n\u001b[0;32m   1684\u001b[0m         \u001b[1;32mif\u001b[0m \u001b[0mtrusted\u001b[0m \u001b[1;32mand\u001b[0m \u001b[0mself\u001b[0m\u001b[1;33m.\u001b[0m\u001b[0m_use_cache\u001b[0m\u001b[1;33m:\u001b[0m\u001b[1;33m\u001b[0m\u001b[0m\n\u001b[1;32m-> 1685\u001b[1;33m             \u001b[1;32mreturn\u001b[0m \u001b[0mself\u001b[0m\u001b[1;33m.\u001b[0m\u001b[0m_trusted_call\u001b[0m\u001b[1;33m(\u001b[0m\u001b[0mtrajectory\u001b[0m\u001b[1;33m,\u001b[0m \u001b[0mself\u001b[0m\u001b[1;33m.\u001b[0m\u001b[0m_cache_call\u001b[0m\u001b[1;33m)\u001b[0m\u001b[1;33m\u001b[0m\u001b[0m\n\u001b[0m\u001b[0;32m   1686\u001b[0m         \u001b[1;32melse\u001b[0m\u001b[1;33m:\u001b[0m\u001b[1;33m\u001b[0m\u001b[0m\n\u001b[0;32m   1687\u001b[0m             \u001b[0mlogger\u001b[0m\u001b[1;33m.\u001b[0m\u001b[0mdebug\u001b[0m\u001b[1;33m(\u001b[0m\u001b[1;34m\"Untrusted VolumeEnsemble \"\u001b[0m\u001b[1;33m+\u001b[0m\u001b[0mrepr\u001b[0m\u001b[1;33m(\u001b[0m\u001b[0mself\u001b[0m\u001b[1;33m)\u001b[0m\u001b[1;33m)\u001b[0m\u001b[1;33m\u001b[0m\u001b[0m\n",
      "\u001b[1;32m/home/sanderroet/github_files/OPS/openpathsampling/openpathsampling/ensemble.pyc\u001b[0m in \u001b[0;36m_trusted_call\u001b[1;34m(self, trajectory, cache)\u001b[0m\n\u001b[0;32m   1652\u001b[0m             \u001b[1;31m# need to check this frame (no prev traj, or prev traj is True)\u001b[0m\u001b[1;33m\u001b[0m\u001b[1;33m\u001b[0m\u001b[0m\n\u001b[0;32m   1653\u001b[0m             \u001b[0mframe\u001b[0m \u001b[1;33m=\u001b[0m \u001b[0mtrajectory\u001b[0m\u001b[1;33m.\u001b[0m\u001b[0mget_as_proxy\u001b[0m\u001b[1;33m(\u001b[0m\u001b[0mframe_num\u001b[0m\u001b[1;33m)\u001b[0m\u001b[1;33m\u001b[0m\u001b[0m\n\u001b[1;32m-> 1654\u001b[1;33m             \u001b[0mcache\u001b[0m\u001b[1;33m.\u001b[0m\u001b[0mcontents\u001b[0m\u001b[1;33m[\u001b[0m\u001b[1;34m'previous'\u001b[0m\u001b[1;33m]\u001b[0m \u001b[1;33m=\u001b[0m \u001b[0mself\u001b[0m\u001b[1;33m.\u001b[0m\u001b[0m_volume\u001b[0m\u001b[1;33m(\u001b[0m\u001b[0mframe\u001b[0m\u001b[1;33m)\u001b[0m\u001b[1;33m\u001b[0m\u001b[0m\n\u001b[0m\u001b[0;32m   1655\u001b[0m             \u001b[1;32mreturn\u001b[0m \u001b[0mcache\u001b[0m\u001b[1;33m.\u001b[0m\u001b[0mcontents\u001b[0m\u001b[1;33m[\u001b[0m\u001b[1;34m'previous'\u001b[0m\u001b[1;33m]\u001b[0m\u001b[1;33m\u001b[0m\u001b[0m\n\u001b[0;32m   1656\u001b[0m         \u001b[1;32melse\u001b[0m\u001b[1;33m:\u001b[0m\u001b[1;33m\u001b[0m\u001b[0m\n",
      "\u001b[1;32m/home/sanderroet/github_files/OPS/openpathsampling/openpathsampling/volume.pyc\u001b[0m in \u001b[0;36m__call__\u001b[1;34m(self, snapshot)\u001b[0m\n\u001b[0;32m    169\u001b[0m \u001b[1;33m\u001b[0m\u001b[0m\n\u001b[0;32m    170\u001b[0m     \u001b[1;32mdef\u001b[0m \u001b[0m__call__\u001b[0m\u001b[1;33m(\u001b[0m\u001b[0mself\u001b[0m\u001b[1;33m,\u001b[0m \u001b[0msnapshot\u001b[0m\u001b[1;33m)\u001b[0m\u001b[1;33m:\u001b[0m\u001b[1;33m\u001b[0m\u001b[0m\n\u001b[1;32m--> 171\u001b[1;33m         \u001b[1;32mreturn\u001b[0m \u001b[1;32mnot\u001b[0m \u001b[0mself\u001b[0m\u001b[1;33m.\u001b[0m\u001b[0mvolume\u001b[0m\u001b[1;33m(\u001b[0m\u001b[0msnapshot\u001b[0m\u001b[1;33m)\u001b[0m\u001b[1;33m\u001b[0m\u001b[0m\n\u001b[0m\u001b[0;32m    172\u001b[0m \u001b[1;33m\u001b[0m\u001b[0m\n\u001b[0;32m    173\u001b[0m     \u001b[1;32mdef\u001b[0m \u001b[0m__str__\u001b[0m\u001b[1;33m(\u001b[0m\u001b[0mself\u001b[0m\u001b[1;33m)\u001b[0m\u001b[1;33m:\u001b[0m\u001b[1;33m\u001b[0m\u001b[0m\n",
      "\u001b[1;32m/home/sanderroet/github_files/OPS/openpathsampling/openpathsampling/volume.pyc\u001b[0m in \u001b[0;36m__call__\u001b[1;34m(self, snapshot)\u001b[0m\n\u001b[0;32m    120\u001b[0m     \u001b[1;32mdef\u001b[0m \u001b[0m__call__\u001b[0m\u001b[1;33m(\u001b[0m\u001b[0mself\u001b[0m\u001b[1;33m,\u001b[0m \u001b[0msnapshot\u001b[0m\u001b[1;33m)\u001b[0m\u001b[1;33m:\u001b[0m\u001b[1;33m\u001b[0m\u001b[0m\n\u001b[0;32m    121\u001b[0m         \u001b[1;31m# short circuit following JHP's implementation in ensemble.py\u001b[0m\u001b[1;33m\u001b[0m\u001b[1;33m\u001b[0m\u001b[0m\n\u001b[1;32m--> 122\u001b[1;33m         \u001b[0ma\u001b[0m \u001b[1;33m=\u001b[0m \u001b[0mself\u001b[0m\u001b[1;33m.\u001b[0m\u001b[0mvolume1\u001b[0m\u001b[1;33m(\u001b[0m\u001b[0msnapshot\u001b[0m\u001b[1;33m)\u001b[0m\u001b[1;33m\u001b[0m\u001b[0m\n\u001b[0m\u001b[0;32m    123\u001b[0m         \u001b[0mres_true\u001b[0m \u001b[1;33m=\u001b[0m \u001b[0mself\u001b[0m\u001b[1;33m.\u001b[0m\u001b[0mfnc\u001b[0m\u001b[1;33m(\u001b[0m\u001b[0ma\u001b[0m\u001b[1;33m,\u001b[0m \u001b[0mTrue\u001b[0m\u001b[1;33m)\u001b[0m\u001b[1;33m\u001b[0m\u001b[0m\n\u001b[0;32m    124\u001b[0m         \u001b[0mres_false\u001b[0m \u001b[1;33m=\u001b[0m \u001b[0mself\u001b[0m\u001b[1;33m.\u001b[0m\u001b[0mfnc\u001b[0m\u001b[1;33m(\u001b[0m\u001b[0ma\u001b[0m\u001b[1;33m,\u001b[0m \u001b[0mFalse\u001b[0m\u001b[1;33m)\u001b[0m\u001b[1;33m\u001b[0m\u001b[0m\n",
      "\u001b[1;32m/home/sanderroet/github_files/OPS/openpathsampling/openpathsampling/volume.pyc\u001b[0m in \u001b[0;36m__call__\u001b[1;34m(self, snapshot)\u001b[0m\n\u001b[0;32m    120\u001b[0m     \u001b[1;32mdef\u001b[0m \u001b[0m__call__\u001b[0m\u001b[1;33m(\u001b[0m\u001b[0mself\u001b[0m\u001b[1;33m,\u001b[0m \u001b[0msnapshot\u001b[0m\u001b[1;33m)\u001b[0m\u001b[1;33m:\u001b[0m\u001b[1;33m\u001b[0m\u001b[0m\n\u001b[0;32m    121\u001b[0m         \u001b[1;31m# short circuit following JHP's implementation in ensemble.py\u001b[0m\u001b[1;33m\u001b[0m\u001b[1;33m\u001b[0m\u001b[0m\n\u001b[1;32m--> 122\u001b[1;33m         \u001b[0ma\u001b[0m \u001b[1;33m=\u001b[0m \u001b[0mself\u001b[0m\u001b[1;33m.\u001b[0m\u001b[0mvolume1\u001b[0m\u001b[1;33m(\u001b[0m\u001b[0msnapshot\u001b[0m\u001b[1;33m)\u001b[0m\u001b[1;33m\u001b[0m\u001b[0m\n\u001b[0m\u001b[0;32m    123\u001b[0m         \u001b[0mres_true\u001b[0m \u001b[1;33m=\u001b[0m \u001b[0mself\u001b[0m\u001b[1;33m.\u001b[0m\u001b[0mfnc\u001b[0m\u001b[1;33m(\u001b[0m\u001b[0ma\u001b[0m\u001b[1;33m,\u001b[0m \u001b[0mTrue\u001b[0m\u001b[1;33m)\u001b[0m\u001b[1;33m\u001b[0m\u001b[0m\n\u001b[0;32m    124\u001b[0m         \u001b[0mres_false\u001b[0m \u001b[1;33m=\u001b[0m \u001b[0mself\u001b[0m\u001b[1;33m.\u001b[0m\u001b[0mfnc\u001b[0m\u001b[1;33m(\u001b[0m\u001b[0ma\u001b[0m\u001b[1;33m,\u001b[0m \u001b[0mFalse\u001b[0m\u001b[1;33m)\u001b[0m\u001b[1;33m\u001b[0m\u001b[0m\n",
      "\u001b[1;32m/home/sanderroet/github_files/OPS/openpathsampling/openpathsampling/volume.pyc\u001b[0m in \u001b[0;36m__call__\u001b[1;34m(self, snapshot)\u001b[0m\n\u001b[0;32m    120\u001b[0m     \u001b[1;32mdef\u001b[0m \u001b[0m__call__\u001b[0m\u001b[1;33m(\u001b[0m\u001b[0mself\u001b[0m\u001b[1;33m,\u001b[0m \u001b[0msnapshot\u001b[0m\u001b[1;33m)\u001b[0m\u001b[1;33m:\u001b[0m\u001b[1;33m\u001b[0m\u001b[0m\n\u001b[0;32m    121\u001b[0m         \u001b[1;31m# short circuit following JHP's implementation in ensemble.py\u001b[0m\u001b[1;33m\u001b[0m\u001b[1;33m\u001b[0m\u001b[0m\n\u001b[1;32m--> 122\u001b[1;33m         \u001b[0ma\u001b[0m \u001b[1;33m=\u001b[0m \u001b[0mself\u001b[0m\u001b[1;33m.\u001b[0m\u001b[0mvolume1\u001b[0m\u001b[1;33m(\u001b[0m\u001b[0msnapshot\u001b[0m\u001b[1;33m)\u001b[0m\u001b[1;33m\u001b[0m\u001b[0m\n\u001b[0m\u001b[0;32m    123\u001b[0m         \u001b[0mres_true\u001b[0m \u001b[1;33m=\u001b[0m \u001b[0mself\u001b[0m\u001b[1;33m.\u001b[0m\u001b[0mfnc\u001b[0m\u001b[1;33m(\u001b[0m\u001b[0ma\u001b[0m\u001b[1;33m,\u001b[0m \u001b[0mTrue\u001b[0m\u001b[1;33m)\u001b[0m\u001b[1;33m\u001b[0m\u001b[0m\n\u001b[0;32m    124\u001b[0m         \u001b[0mres_false\u001b[0m \u001b[1;33m=\u001b[0m \u001b[0mself\u001b[0m\u001b[1;33m.\u001b[0m\u001b[0mfnc\u001b[0m\u001b[1;33m(\u001b[0m\u001b[0ma\u001b[0m\u001b[1;33m,\u001b[0m \u001b[0mFalse\u001b[0m\u001b[1;33m)\u001b[0m\u001b[1;33m\u001b[0m\u001b[0m\n",
      "\u001b[1;32m/home/sanderroet/github_files/OPS/openpathsampling/openpathsampling/volume.pyc\u001b[0m in \u001b[0;36m__call__\u001b[1;34m(self, snapshot)\u001b[0m\n\u001b[0;32m    120\u001b[0m     \u001b[1;32mdef\u001b[0m \u001b[0m__call__\u001b[0m\u001b[1;33m(\u001b[0m\u001b[0mself\u001b[0m\u001b[1;33m,\u001b[0m \u001b[0msnapshot\u001b[0m\u001b[1;33m)\u001b[0m\u001b[1;33m:\u001b[0m\u001b[1;33m\u001b[0m\u001b[0m\n\u001b[0;32m    121\u001b[0m         \u001b[1;31m# short circuit following JHP's implementation in ensemble.py\u001b[0m\u001b[1;33m\u001b[0m\u001b[1;33m\u001b[0m\u001b[0m\n\u001b[1;32m--> 122\u001b[1;33m         \u001b[0ma\u001b[0m \u001b[1;33m=\u001b[0m \u001b[0mself\u001b[0m\u001b[1;33m.\u001b[0m\u001b[0mvolume1\u001b[0m\u001b[1;33m(\u001b[0m\u001b[0msnapshot\u001b[0m\u001b[1;33m)\u001b[0m\u001b[1;33m\u001b[0m\u001b[0m\n\u001b[0m\u001b[0;32m    123\u001b[0m         \u001b[0mres_true\u001b[0m \u001b[1;33m=\u001b[0m \u001b[0mself\u001b[0m\u001b[1;33m.\u001b[0m\u001b[0mfnc\u001b[0m\u001b[1;33m(\u001b[0m\u001b[0ma\u001b[0m\u001b[1;33m,\u001b[0m \u001b[0mTrue\u001b[0m\u001b[1;33m)\u001b[0m\u001b[1;33m\u001b[0m\u001b[0m\n\u001b[0;32m    124\u001b[0m         \u001b[0mres_false\u001b[0m \u001b[1;33m=\u001b[0m \u001b[0mself\u001b[0m\u001b[1;33m.\u001b[0m\u001b[0mfnc\u001b[0m\u001b[1;33m(\u001b[0m\u001b[0ma\u001b[0m\u001b[1;33m,\u001b[0m \u001b[0mFalse\u001b[0m\u001b[1;33m)\u001b[0m\u001b[1;33m\u001b[0m\u001b[0m\n",
      "\u001b[1;32m/home/sanderroet/github_files/OPS/openpathsampling/openpathsampling/volume.pyc\u001b[0m in \u001b[0;36m__call__\u001b[1;34m(self, snapshot)\u001b[0m\n\u001b[0;32m    360\u001b[0m \u001b[1;33m\u001b[0m\u001b[0m\n\u001b[0;32m    361\u001b[0m     \u001b[1;32mdef\u001b[0m \u001b[0m__call__\u001b[0m\u001b[1;33m(\u001b[0m\u001b[0mself\u001b[0m\u001b[1;33m,\u001b[0m \u001b[0msnapshot\u001b[0m\u001b[1;33m)\u001b[0m\u001b[1;33m:\u001b[0m\u001b[1;33m\u001b[0m\u001b[0m\n\u001b[1;32m--> 362\u001b[1;33m         \u001b[0ml\u001b[0m \u001b[1;33m=\u001b[0m \u001b[0mfloat\u001b[0m\u001b[1;33m(\u001b[0m\u001b[0mself\u001b[0m\u001b[1;33m.\u001b[0m\u001b[0mcollectivevariable\u001b[0m\u001b[1;33m(\u001b[0m\u001b[0msnapshot\u001b[0m\u001b[1;33m)\u001b[0m\u001b[1;33m)\u001b[0m\u001b[1;33m\u001b[0m\u001b[0m\n\u001b[0m\u001b[0;32m    363\u001b[0m         \u001b[1;32mreturn\u001b[0m \u001b[0ml\u001b[0m \u001b[1;33m>=\u001b[0m \u001b[0mself\u001b[0m\u001b[1;33m.\u001b[0m\u001b[0mlambda_min\u001b[0m \u001b[1;32mand\u001b[0m \u001b[0ml\u001b[0m \u001b[1;33m<=\u001b[0m \u001b[0mself\u001b[0m\u001b[1;33m.\u001b[0m\u001b[0mlambda_max\u001b[0m\u001b[1;33m\u001b[0m\u001b[0m\n\u001b[0;32m    364\u001b[0m \u001b[1;33m\u001b[0m\u001b[0m\n",
      "\u001b[1;32m/home/sanderroet/github_files/OPS/openpathsampling/openpathsampling/chaindict.pyc\u001b[0m in \u001b[0;36m__call__\u001b[1;34m(self, items)\u001b[0m\n\u001b[0;32m    124\u001b[0m \u001b[1;33m\u001b[0m\u001b[0m\n\u001b[0;32m    125\u001b[0m     \u001b[1;32mdef\u001b[0m \u001b[0m__call__\u001b[0m\u001b[1;33m(\u001b[0m\u001b[0mself\u001b[0m\u001b[1;33m,\u001b[0m \u001b[0mitems\u001b[0m\u001b[1;33m)\u001b[0m\u001b[1;33m:\u001b[0m\u001b[1;33m\u001b[0m\u001b[0m\n\u001b[1;32m--> 126\u001b[1;33m         \u001b[1;32mreturn\u001b[0m \u001b[0mself\u001b[0m\u001b[1;33m[\u001b[0m\u001b[0mitems\u001b[0m\u001b[1;33m]\u001b[0m\u001b[1;33m\u001b[0m\u001b[0m\n\u001b[0m\u001b[0;32m    127\u001b[0m \u001b[1;33m\u001b[0m\u001b[0m\n\u001b[0;32m    128\u001b[0m     \u001b[1;32mdef\u001b[0m \u001b[0m__gt__\u001b[0m\u001b[1;33m(\u001b[0m\u001b[0mself\u001b[0m\u001b[1;33m,\u001b[0m \u001b[0mother\u001b[0m\u001b[1;33m)\u001b[0m\u001b[1;33m:\u001b[0m\u001b[1;33m\u001b[0m\u001b[0m\n",
      "\u001b[1;32m/home/sanderroet/github_files/OPS/openpathsampling/openpathsampling/chaindict.pyc\u001b[0m in \u001b[0;36m__getitem__\u001b[1;34m(self, items)\u001b[0m\n\u001b[0;32m    222\u001b[0m \u001b[1;33m\u001b[0m\u001b[0m\n\u001b[0;32m    223\u001b[0m     \u001b[1;32mdef\u001b[0m \u001b[0m__getitem__\u001b[0m\u001b[1;33m(\u001b[0m\u001b[0mself\u001b[0m\u001b[1;33m,\u001b[0m \u001b[0mitems\u001b[0m\u001b[1;33m)\u001b[0m\u001b[1;33m:\u001b[0m\u001b[1;33m\u001b[0m\u001b[0m\n\u001b[1;32m--> 224\u001b[1;33m         \u001b[1;32mreturn\u001b[0m \u001b[0mself\u001b[0m\u001b[1;33m.\u001b[0m\u001b[0m_post\u001b[0m\u001b[1;33m[\u001b[0m\u001b[0mitems\u001b[0m\u001b[1;33m]\u001b[0m\u001b[1;33m\u001b[0m\u001b[0m\n\u001b[0m\u001b[0;32m    225\u001b[0m \u001b[1;33m\u001b[0m\u001b[0m\n\u001b[0;32m    226\u001b[0m     \u001b[1;32mdef\u001b[0m \u001b[0m__setitem__\u001b[0m\u001b[1;33m(\u001b[0m\u001b[0mself\u001b[0m\u001b[1;33m,\u001b[0m \u001b[0mkey\u001b[0m\u001b[1;33m,\u001b[0m \u001b[0mvalue\u001b[0m\u001b[1;33m)\u001b[0m\u001b[1;33m:\u001b[0m\u001b[1;33m\u001b[0m\u001b[0m\n",
      "\u001b[1;32m/home/sanderroet/github_files/OPS/openpathsampling/openpathsampling/chaindict.pyc\u001b[0m in \u001b[0;36m__getitem__\u001b[1;34m(self, items)\u001b[0m\n\u001b[0;32m    247\u001b[0m         \u001b[1;32mif\u001b[0m \u001b[0mtype\u001b[0m\u001b[1;33m(\u001b[0m\u001b[0mitems\u001b[0m\u001b[1;33m)\u001b[0m \u001b[1;32mis\u001b[0m \u001b[0mLoaderProxy\u001b[0m\u001b[1;33m:\u001b[0m\u001b[1;33m\u001b[0m\u001b[0m\n\u001b[0;32m    248\u001b[0m             \u001b[1;32mreturn\u001b[0m \u001b[0mself\u001b[0m\u001b[1;33m.\u001b[0m\u001b[0m_post\u001b[0m\u001b[1;33m[\u001b[0m\u001b[1;33m[\u001b[0m\u001b[0mitems\u001b[0m\u001b[1;33m]\u001b[0m\u001b[1;33m]\u001b[0m\u001b[1;33m[\u001b[0m\u001b[1;36m0\u001b[0m\u001b[1;33m]\u001b[0m\u001b[1;33m\u001b[0m\u001b[0m\n\u001b[1;32m--> 249\u001b[1;33m         \u001b[1;32mif\u001b[0m \u001b[0mhasattr\u001b[0m\u001b[1;33m(\u001b[0m\u001b[0mitems\u001b[0m\u001b[1;33m,\u001b[0m \u001b[1;34m'__iter__'\u001b[0m\u001b[1;33m)\u001b[0m\u001b[1;33m:\u001b[0m\u001b[1;33m\u001b[0m\u001b[0m\n\u001b[0m\u001b[0;32m    250\u001b[0m             \u001b[1;32mtry\u001b[0m\u001b[1;33m:\u001b[0m\u001b[1;33m\u001b[0m\u001b[0m\n\u001b[0;32m    251\u001b[0m                 \u001b[0mdummy\u001b[0m \u001b[1;33m=\u001b[0m \u001b[0mlen\u001b[0m\u001b[1;33m(\u001b[0m\u001b[0mitems\u001b[0m\u001b[1;33m)\u001b[0m\u001b[1;33m\u001b[0m\u001b[0m\n",
      "\u001b[1;31mKeyboardInterrupt\u001b[0m: "
     ]
    }
   ],
   "source": [
    "%%time\n",
    "flux_out_closed = analyzer.analyze_flux(trajectory = run,\n",
    "                                        state = state_closed,\n",
    "                                        interface = state_closed)['out']\n",
    "flux_out_open = analyzer.analyze_flux(trajectory = run,\n",
    "                                        state = state_open,\n",
    "                                        interface = state_open)['out']\n",
    "flux_in_closed = analyzer.analyze_flux(trajectory = run,\n",
    "                                        state = state_closed,\n",
    "                                        interface = state_closed)['in']\n",
    "\n",
    "flux_in_open = analyzer.analyze_flux(trajectory = run,\n",
    "                                        state = state_open,\n",
    "                                        interface = state_open)['in']\n",
    "print \"flux events out of the closed interface: \"+str(len(flux_out_closed))+\"\\n\"\n",
    "\n",
    "print \"flux events out of the open interface: \"+str(len(flux_out_open))+\"\\n\"\n"
   ]
  },
  {
   "cell_type": "code",
   "execution_count": null,
   "metadata": {
    "collapsed": false
   },
   "outputs": [],
   "source": [
    "plt.figure(figsize=(12,6))\n",
    "#plt.hist([len(traj) for traj in flux_out_closed])\n",
    "plt.figure(figsize=(12,6))\n",
    "plt.hist([len(traj) for traj in flux_out_closed], bins=range(1, 20, 1))\n",
    "plt.figure(figsize=(12,6))\n",
    "#plt.hist([len(traj) for traj in flux_in_closed])\n",
    "plt.figure(figsize=(12,6))\n",
    "plt.hist([len(traj) for traj in flux_in_closed], bins=range(1, 20, 1))"
   ]
  },
  {
   "cell_type": "code",
   "execution_count": null,
   "metadata": {
    "collapsed": false
   },
   "outputs": [],
   "source": [
    "plt.figure(figsize=(12,6))\n",
    "#plt.hist([len(traj) for traj in flux_out_open])\n",
    "plt.figure(figsize=(12,6))\n",
    "plt.hist([len(traj) for traj in flux_out_open], bins=range(1, 200, 1))\n",
    "plt.figure(figsize=(12,6))\n",
    "#plt.hist([len(traj) for traj in flux_in_open])\n",
    "plt.figure(figsize=(12,6))\n",
    "plt.hist([len(traj) for traj in flux_in_open], bins=range(1, 200, 1))"
   ]
  },
  {
   "cell_type": "code",
   "execution_count": null,
   "metadata": {
    "collapsed": false
   },
   "outputs": [],
   "source": [
    "open_lifetime = analyzer.analyze_lifetime(run, state_open)\n",
    "for i in open_lifetime:\n",
    "    print len(i)"
   ]
  },
  {
   "cell_type": "code",
   "execution_count": null,
   "metadata": {
    "collapsed": false
   },
   "outputs": [],
   "source": [
    "list_flux_out_closed = [len(x)*analyzer.dt for x in analyzer.flux_segments[state_closed]['out']]\n",
    "list_flux_in_closed =  [len(x)*analyzer.dt for x in analyzer.flux_segments[state_closed]['in']]\n",
    "flux_closed =1.0/(np.mean(list_flux_out_closed) + np.mean(list_flux_in_closed))\n",
    "print \"flux closed interface = \"+str(flux_closed) +\" /ps\"\n",
    "print \"flux closed interface = \"+str(flux_closed*1000) +\" /ns\\n\"\n",
    "\n",
    "list_flux_out_open = [len(x)*analyzer.dt for x in analyzer.flux_segments[state_open]['out']]\n",
    "list_flux_in_open =  [len(x)*analyzer.dt for x in analyzer.flux_segments[state_open]['in']]\n",
    "flux_open =1.0/(np.mean(list_flux_out_open) + np.mean(list_flux_in_open))\n",
    "print \"flux open interface = \"+str(flux_open) +\" /ps\"\n",
    "print \"flux open interface = \"+str(flux_open*1000) +\" /ns\""
   ]
  },
  {
   "cell_type": "code",
   "execution_count": null,
   "metadata": {
    "collapsed": true
   },
   "outputs": [],
   "source": []
  }
 ],
 "metadata": {
  "kernelspec": {
   "display_name": "Python 2",
   "language": "python",
   "name": "python2"
  },
  "language_info": {
   "codemirror_mode": {
    "name": "ipython",
    "version": 2
   },
   "file_extension": ".py",
   "mimetype": "text/x-python",
   "name": "python",
   "nbconvert_exporter": "python",
   "pygments_lexer": "ipython2",
   "version": "2.7.11"
  }
 },
 "nbformat": 4,
 "nbformat_minor": 0
}
